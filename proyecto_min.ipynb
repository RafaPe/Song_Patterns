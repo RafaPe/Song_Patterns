{
  "nbformat": 4,
  "nbformat_minor": 0,
  "metadata": {
    "colab": {
      "name": "proyecto-min.ipynb",
      "provenance": [],
      "collapsed_sections": []
    },
    "kernelspec": {
      "name": "python3",
      "display_name": "Python 3"
    }
  },
  "cells": [
    {
      "cell_type": "code",
      "metadata": {
        "id": "ZDMRDH5sLGCx"
      },
      "source": [
        "import pandas as pd\r\n",
        "import numpy as np\r\n",
        "import matplotlib.pyplot as plt\r\n",
        "import sklearn.cluster as skc\r\n",
        "from yellowbrick.cluster.elbow import kelbow_visualizer\r\n",
        "from yellowbrick.cluster import SilhouetteVisualizer\r\n",
        "from sklearn.cluster import KMeans"
      ],
      "execution_count": 95,
      "outputs": []
    },
    {
      "cell_type": "code",
      "metadata": {
        "colab": {
          "base_uri": "https://localhost:8080/"
        },
        "id": "1GGyOGdJgWpF",
        "outputId": "fa5af4e6-133d-4bcb-e51b-390f4b41b3f0"
      },
      "source": [
        "pip install -U yellowbrick"
      ],
      "execution_count": 92,
      "outputs": [
        {
          "output_type": "stream",
          "text": [
            "Collecting yellowbrick\n",
            "\u001b[?25l  Downloading https://files.pythonhosted.org/packages/b1/bb/57fd86c319a43666fe447bb1bc5af66fb0eb89dc4efc305a7544d50f52d6/yellowbrick-1.2.1-py3-none-any.whl (269kB)\n",
            "\r\u001b[K     |█▏                              | 10kB 17.0MB/s eta 0:00:01\r\u001b[K     |██▍                             | 20kB 10.4MB/s eta 0:00:01\r\u001b[K     |███▋                            | 30kB 6.0MB/s eta 0:00:01\r\u001b[K     |████▉                           | 40kB 5.5MB/s eta 0:00:01\r\u001b[K     |██████                          | 51kB 3.1MB/s eta 0:00:01\r\u001b[K     |███████▎                        | 61kB 3.6MB/s eta 0:00:01\r\u001b[K     |████████▌                       | 71kB 3.8MB/s eta 0:00:01\r\u001b[K     |█████████▊                      | 81kB 3.9MB/s eta 0:00:01\r\u001b[K     |███████████                     | 92kB 4.0MB/s eta 0:00:01\r\u001b[K     |████████████▏                   | 102kB 4.2MB/s eta 0:00:01\r\u001b[K     |█████████████▍                  | 112kB 4.2MB/s eta 0:00:01\r\u001b[K     |██████████████▋                 | 122kB 4.2MB/s eta 0:00:01\r\u001b[K     |███████████████▉                | 133kB 4.2MB/s eta 0:00:01\r\u001b[K     |█████████████████               | 143kB 4.2MB/s eta 0:00:01\r\u001b[K     |██████████████████▎             | 153kB 4.2MB/s eta 0:00:01\r\u001b[K     |███████████████████▌            | 163kB 4.2MB/s eta 0:00:01\r\u001b[K     |████████████████████▊           | 174kB 4.2MB/s eta 0:00:01\r\u001b[K     |█████████████████████▉          | 184kB 4.2MB/s eta 0:00:01\r\u001b[K     |███████████████████████         | 194kB 4.2MB/s eta 0:00:01\r\u001b[K     |████████████████████████▎       | 204kB 4.2MB/s eta 0:00:01\r\u001b[K     |█████████████████████████▌      | 215kB 4.2MB/s eta 0:00:01\r\u001b[K     |██████████████████████████▊     | 225kB 4.2MB/s eta 0:00:01\r\u001b[K     |████████████████████████████    | 235kB 4.2MB/s eta 0:00:01\r\u001b[K     |█████████████████████████████▏  | 245kB 4.2MB/s eta 0:00:01\r\u001b[K     |██████████████████████████████▍ | 256kB 4.2MB/s eta 0:00:01\r\u001b[K     |███████████████████████████████▋| 266kB 4.2MB/s eta 0:00:01\r\u001b[K     |████████████████████████████████| 276kB 4.2MB/s \n",
            "\u001b[?25hRequirement already satisfied, skipping upgrade: matplotlib!=3.0.0,>=2.0.2 in /usr/local/lib/python3.6/dist-packages (from yellowbrick) (3.2.2)\n",
            "Requirement already satisfied, skipping upgrade: scikit-learn<0.24,>=0.20 in /usr/local/lib/python3.6/dist-packages (from yellowbrick) (0.22.2.post1)\n",
            "Requirement already satisfied, skipping upgrade: cycler>=0.10.0 in /usr/local/lib/python3.6/dist-packages (from yellowbrick) (0.10.0)\n",
            "Requirement already satisfied, skipping upgrade: scipy<1.6,>=1.0.0 in /usr/local/lib/python3.6/dist-packages (from yellowbrick) (1.4.1)\n",
            "Requirement already satisfied, skipping upgrade: numpy>=1.13.0 in /usr/local/lib/python3.6/dist-packages (from yellowbrick) (1.19.5)\n",
            "Requirement already satisfied, skipping upgrade: pyparsing!=2.0.4,!=2.1.2,!=2.1.6,>=2.0.1 in /usr/local/lib/python3.6/dist-packages (from matplotlib!=3.0.0,>=2.0.2->yellowbrick) (2.4.7)\n",
            "Requirement already satisfied, skipping upgrade: python-dateutil>=2.1 in /usr/local/lib/python3.6/dist-packages (from matplotlib!=3.0.0,>=2.0.2->yellowbrick) (2.8.1)\n",
            "Requirement already satisfied, skipping upgrade: kiwisolver>=1.0.1 in /usr/local/lib/python3.6/dist-packages (from matplotlib!=3.0.0,>=2.0.2->yellowbrick) (1.3.1)\n",
            "Requirement already satisfied, skipping upgrade: joblib>=0.11 in /usr/local/lib/python3.6/dist-packages (from scikit-learn<0.24,>=0.20->yellowbrick) (1.0.0)\n",
            "Requirement already satisfied, skipping upgrade: six in /usr/local/lib/python3.6/dist-packages (from cycler>=0.10.0->yellowbrick) (1.15.0)\n",
            "Installing collected packages: yellowbrick\n",
            "  Found existing installation: yellowbrick 0.9.1\n",
            "    Uninstalling yellowbrick-0.9.1:\n",
            "      Successfully uninstalled yellowbrick-0.9.1\n",
            "Successfully installed yellowbrick-1.2.1\n"
          ],
          "name": "stdout"
        }
      ]
    },
    {
      "cell_type": "markdown",
      "metadata": {
        "id": "9TzYT8BdhrdL"
      },
      "source": [
        "## Preprocesamiento"
      ]
    },
    {
      "cell_type": "code",
      "metadata": {
        "id": "mtpIuxvULPLB"
      },
      "source": [
        "df=pd.read_csv('/content/songs-dataset.csv')"
      ],
      "execution_count": 2,
      "outputs": []
    },
    {
      "cell_type": "code",
      "metadata": {
        "colab": {
          "base_uri": "https://localhost:8080/",
          "height": 779
        },
        "id": "4hE2FaCrLPRn",
        "outputId": "5fce7c80-f690-417f-ba3d-4582059b17d1"
      },
      "source": [
        "df"
      ],
      "execution_count": 3,
      "outputs": [
        {
          "output_type": "execute_result",
          "data": {
            "text/html": [
              "<div>\n",
              "<style scoped>\n",
              "    .dataframe tbody tr th:only-of-type {\n",
              "        vertical-align: middle;\n",
              "    }\n",
              "\n",
              "    .dataframe tbody tr th {\n",
              "        vertical-align: top;\n",
              "    }\n",
              "\n",
              "    .dataframe thead th {\n",
              "        text-align: right;\n",
              "    }\n",
              "</style>\n",
              "<table border=\"1\" class=\"dataframe\">\n",
              "  <thead>\n",
              "    <tr style=\"text-align: right;\">\n",
              "      <th></th>\n",
              "      <th>danceability</th>\n",
              "      <th>energy</th>\n",
              "      <th>key</th>\n",
              "      <th>loudness</th>\n",
              "      <th>mode</th>\n",
              "      <th>speechiness</th>\n",
              "      <th>acousticness</th>\n",
              "      <th>instrumentalness</th>\n",
              "      <th>liveness</th>\n",
              "      <th>valence</th>\n",
              "      <th>tempo</th>\n",
              "      <th>type</th>\n",
              "      <th>id</th>\n",
              "      <th>uri</th>\n",
              "      <th>track_href</th>\n",
              "      <th>analysis_url</th>\n",
              "      <th>duration_ms</th>\n",
              "      <th>time_signature</th>\n",
              "      <th>song_name</th>\n",
              "      <th>artist(s)</th>\n",
              "      <th>gender(of the atrist(s))</th>\n",
              "      <th>type(solo, colab, grpup/band)</th>\n",
              "      <th>country</th>\n",
              "      <th>number_integrants</th>\n",
              "      <th>Song Language</th>\n",
              "      <th>Do we like?</th>\n",
              "    </tr>\n",
              "  </thead>\n",
              "  <tbody>\n",
              "    <tr>\n",
              "      <th>0</th>\n",
              "      <td>0.488</td>\n",
              "      <td>0.493</td>\n",
              "      <td>7</td>\n",
              "      <td>-7.870</td>\n",
              "      <td>1</td>\n",
              "      <td>0.0342</td>\n",
              "      <td>0.17400</td>\n",
              "      <td>0.000002</td>\n",
              "      <td>0.3530</td>\n",
              "      <td>0.399</td>\n",
              "      <td>79.442</td>\n",
              "      <td>audio_features</td>\n",
              "      <td>1vlDwedZUvYaxt2FXoYGaJ</td>\n",
              "      <td>spotify:track:1vlDwedZUvYaxt2FXoYGaJ</td>\n",
              "      <td>https://api.spotify.com/v1/tracks/1vlDwedZUvYa...</td>\n",
              "      <td>https://api.spotify.com/v1/audio-analysis/1vlD...</td>\n",
              "      <td>247920</td>\n",
              "      <td>4</td>\n",
              "      <td>Held Down</td>\n",
              "      <td>['Laura Marling']</td>\n",
              "      <td>F</td>\n",
              "      <td>solo</td>\n",
              "      <td>England</td>\n",
              "      <td>1</td>\n",
              "      <td>English</td>\n",
              "      <td>F</td>\n",
              "    </tr>\n",
              "    <tr>\n",
              "      <th>1</th>\n",
              "      <td>0.695</td>\n",
              "      <td>0.847</td>\n",
              "      <td>8</td>\n",
              "      <td>-5.539</td>\n",
              "      <td>1</td>\n",
              "      <td>0.0485</td>\n",
              "      <td>0.44700</td>\n",
              "      <td>0.071000</td>\n",
              "      <td>0.2160</td>\n",
              "      <td>0.825</td>\n",
              "      <td>116.092</td>\n",
              "      <td>audio_features</td>\n",
              "      <td>49FXvRiOm0uC85x4yhz5eP</td>\n",
              "      <td>spotify:track:49FXvRiOm0uC85x4yhz5eP</td>\n",
              "      <td>https://api.spotify.com/v1/tracks/49FXvRiOm0uC...</td>\n",
              "      <td>https://api.spotify.com/v1/audio-analysis/49FX...</td>\n",
              "      <td>179987</td>\n",
              "      <td>4</td>\n",
              "      <td>Blank Slate</td>\n",
              "      <td>['Chicano Batman']</td>\n",
              "      <td>M</td>\n",
              "      <td>band</td>\n",
              "      <td>United States</td>\n",
              "      <td>1</td>\n",
              "      <td>English</td>\n",
              "      <td>F</td>\n",
              "    </tr>\n",
              "    <tr>\n",
              "      <th>2</th>\n",
              "      <td>0.619</td>\n",
              "      <td>0.719</td>\n",
              "      <td>0</td>\n",
              "      <td>-4.111</td>\n",
              "      <td>1</td>\n",
              "      <td>0.1570</td>\n",
              "      <td>0.02270</td>\n",
              "      <td>0.000000</td>\n",
              "      <td>0.0839</td>\n",
              "      <td>0.351</td>\n",
              "      <td>86.036</td>\n",
              "      <td>audio_features</td>\n",
              "      <td>6t51aLe7rjZhKgONwt6btQ</td>\n",
              "      <td>spotify:track:6t51aLe7rjZhKgONwt6btQ</td>\n",
              "      <td>https://api.spotify.com/v1/tracks/6t51aLe7rjZh...</td>\n",
              "      <td>https://api.spotify.com/v1/audio-analysis/6t51...</td>\n",
              "      <td>194576</td>\n",
              "      <td>4</td>\n",
              "      <td>Back Home (feat. Summer Walker)</td>\n",
              "      <td>['Trey Songz', 'Summer Walker']</td>\n",
              "      <td>V</td>\n",
              "      <td>colab</td>\n",
              "      <td>United States</td>\n",
              "      <td>2</td>\n",
              "      <td>English</td>\n",
              "      <td>F</td>\n",
              "    </tr>\n",
              "    <tr>\n",
              "      <th>3</th>\n",
              "      <td>0.226</td>\n",
              "      <td>0.594</td>\n",
              "      <td>7</td>\n",
              "      <td>-5.046</td>\n",
              "      <td>1</td>\n",
              "      <td>0.0425</td>\n",
              "      <td>0.03590</td>\n",
              "      <td>0.005030</td>\n",
              "      <td>0.1620</td>\n",
              "      <td>0.175</td>\n",
              "      <td>87.500</td>\n",
              "      <td>audio_features</td>\n",
              "      <td>3FN5547t8mXmJQQWIHLS3Y</td>\n",
              "      <td>spotify:track:3FN5547t8mXmJQQWIHLS3Y</td>\n",
              "      <td>https://api.spotify.com/v1/tracks/3FN5547t8mXm...</td>\n",
              "      <td>https://api.spotify.com/v1/audio-analysis/3FN5...</td>\n",
              "      <td>293600</td>\n",
              "      <td>4</td>\n",
              "      <td>Ohio</td>\n",
              "      <td>['King Princess']</td>\n",
              "      <td>F</td>\n",
              "      <td>solo</td>\n",
              "      <td>United States</td>\n",
              "      <td>1</td>\n",
              "      <td>English</td>\n",
              "      <td>F</td>\n",
              "    </tr>\n",
              "    <tr>\n",
              "      <th>4</th>\n",
              "      <td>0.636</td>\n",
              "      <td>0.763</td>\n",
              "      <td>2</td>\n",
              "      <td>-8.099</td>\n",
              "      <td>1</td>\n",
              "      <td>0.0441</td>\n",
              "      <td>0.13500</td>\n",
              "      <td>0.107000</td>\n",
              "      <td>0.0595</td>\n",
              "      <td>0.320</td>\n",
              "      <td>132.666</td>\n",
              "      <td>audio_features</td>\n",
              "      <td>0p7oSAo7L1nPXxtGMH3BzW</td>\n",
              "      <td>spotify:track:0p7oSAo7L1nPXxtGMH3BzW</td>\n",
              "      <td>https://api.spotify.com/v1/tracks/0p7oSAo7L1nP...</td>\n",
              "      <td>https://api.spotify.com/v1/audio-analysis/0p7o...</td>\n",
              "      <td>179040</td>\n",
              "      <td>4</td>\n",
              "      <td>Cellular</td>\n",
              "      <td>['King Krule']</td>\n",
              "      <td>M</td>\n",
              "      <td>solo</td>\n",
              "      <td>England</td>\n",
              "      <td>1</td>\n",
              "      <td>English</td>\n",
              "      <td>F</td>\n",
              "    </tr>\n",
              "    <tr>\n",
              "      <th>...</th>\n",
              "      <td>...</td>\n",
              "      <td>...</td>\n",
              "      <td>...</td>\n",
              "      <td>...</td>\n",
              "      <td>...</td>\n",
              "      <td>...</td>\n",
              "      <td>...</td>\n",
              "      <td>...</td>\n",
              "      <td>...</td>\n",
              "      <td>...</td>\n",
              "      <td>...</td>\n",
              "      <td>...</td>\n",
              "      <td>...</td>\n",
              "      <td>...</td>\n",
              "      <td>...</td>\n",
              "      <td>...</td>\n",
              "      <td>...</td>\n",
              "      <td>...</td>\n",
              "      <td>...</td>\n",
              "      <td>...</td>\n",
              "      <td>...</td>\n",
              "      <td>...</td>\n",
              "      <td>...</td>\n",
              "      <td>...</td>\n",
              "      <td>...</td>\n",
              "      <td>...</td>\n",
              "    </tr>\n",
              "    <tr>\n",
              "      <th>996</th>\n",
              "      <td>0.787</td>\n",
              "      <td>0.705</td>\n",
              "      <td>0</td>\n",
              "      <td>-7.582</td>\n",
              "      <td>1</td>\n",
              "      <td>0.0695</td>\n",
              "      <td>0.13700</td>\n",
              "      <td>0.000001</td>\n",
              "      <td>0.1080</td>\n",
              "      <td>0.499</td>\n",
              "      <td>81.998</td>\n",
              "      <td>audio_features</td>\n",
              "      <td>5mj8WVFcKdGA8p9HWGTSLc</td>\n",
              "      <td>spotify:track:5mj8WVFcKdGA8p9HWGTSLc</td>\n",
              "      <td>https://api.spotify.com/v1/tracks/5mj8WVFcKdGA...</td>\n",
              "      <td>https://api.spotify.com/v1/audio-analysis/5mj8...</td>\n",
              "      <td>188654</td>\n",
              "      <td>4</td>\n",
              "      <td>Cuando Perriabas</td>\n",
              "      <td>['Bad Bunny']</td>\n",
              "      <td>M</td>\n",
              "      <td>solo</td>\n",
              "      <td>NaN</td>\n",
              "      <td>1</td>\n",
              "      <td>Spanish</td>\n",
              "      <td>RF</td>\n",
              "    </tr>\n",
              "    <tr>\n",
              "      <th>997</th>\n",
              "      <td>0.702</td>\n",
              "      <td>0.825</td>\n",
              "      <td>6</td>\n",
              "      <td>-3.787</td>\n",
              "      <td>0</td>\n",
              "      <td>0.0601</td>\n",
              "      <td>0.00883</td>\n",
              "      <td>0.000000</td>\n",
              "      <td>0.0674</td>\n",
              "      <td>0.915</td>\n",
              "      <td>102.977</td>\n",
              "      <td>audio_features</td>\n",
              "      <td>463CkQjx2Zk1yXoBuierM9</td>\n",
              "      <td>spotify:track:463CkQjx2Zk1yXoBuierM9</td>\n",
              "      <td>https://api.spotify.com/v1/tracks/463CkQjx2Zk1...</td>\n",
              "      <td>https://api.spotify.com/v1/audio-analysis/463C...</td>\n",
              "      <td>203064</td>\n",
              "      <td>4</td>\n",
              "      <td>Levitating (feat. DaBaby)</td>\n",
              "      <td>['Dua Lipa', 'DaBaby']</td>\n",
              "      <td>V</td>\n",
              "      <td>colab</td>\n",
              "      <td>NaN</td>\n",
              "      <td>2</td>\n",
              "      <td>English</td>\n",
              "      <td>RF</td>\n",
              "    </tr>\n",
              "    <tr>\n",
              "      <th>998</th>\n",
              "      <td>0.547</td>\n",
              "      <td>0.789</td>\n",
              "      <td>8</td>\n",
              "      <td>-5.619</td>\n",
              "      <td>1</td>\n",
              "      <td>0.0420</td>\n",
              "      <td>0.00871</td>\n",
              "      <td>0.000000</td>\n",
              "      <td>0.1000</td>\n",
              "      <td>0.345</td>\n",
              "      <td>129.916</td>\n",
              "      <td>audio_features</td>\n",
              "      <td>4mEILaBM7bKZqKAun5tABu</td>\n",
              "      <td>spotify:track:4mEILaBM7bKZqKAun5tABu</td>\n",
              "      <td>https://api.spotify.com/v1/tracks/4mEILaBM7bKZ...</td>\n",
              "      <td>https://api.spotify.com/v1/audio-analysis/4mEI...</td>\n",
              "      <td>193911</td>\n",
              "      <td>4</td>\n",
              "      <td>When We Were Young</td>\n",
              "      <td>['Lost Kings', 'Norma Jean Martine']</td>\n",
              "      <td>V</td>\n",
              "      <td>colab</td>\n",
              "      <td>NaN</td>\n",
              "      <td>2</td>\n",
              "      <td>English</td>\n",
              "      <td>R</td>\n",
              "    </tr>\n",
              "    <tr>\n",
              "      <th>999</th>\n",
              "      <td>0.499</td>\n",
              "      <td>0.792</td>\n",
              "      <td>4</td>\n",
              "      <td>-4.380</td>\n",
              "      <td>1</td>\n",
              "      <td>0.0710</td>\n",
              "      <td>0.01310</td>\n",
              "      <td>0.000505</td>\n",
              "      <td>0.1100</td>\n",
              "      <td>0.341</td>\n",
              "      <td>159.946</td>\n",
              "      <td>audio_features</td>\n",
              "      <td>6RcFtM4DrZVisQD8FgVftJ</td>\n",
              "      <td>spotify:track:6RcFtM4DrZVisQD8FgVftJ</td>\n",
              "      <td>https://api.spotify.com/v1/tracks/6RcFtM4DrZVi...</td>\n",
              "      <td>https://api.spotify.com/v1/audio-analysis/6RcF...</td>\n",
              "      <td>242750</td>\n",
              "      <td>4</td>\n",
              "      <td>Serenity</td>\n",
              "      <td>['Chamsi', 'AJ Euro']</td>\n",
              "      <td>V</td>\n",
              "      <td>colab</td>\n",
              "      <td>NaN</td>\n",
              "      <td>2</td>\n",
              "      <td>English</td>\n",
              "      <td>R</td>\n",
              "    </tr>\n",
              "    <tr>\n",
              "      <th>1000</th>\n",
              "      <td>0.490</td>\n",
              "      <td>0.914</td>\n",
              "      <td>10</td>\n",
              "      <td>-3.202</td>\n",
              "      <td>1</td>\n",
              "      <td>0.1670</td>\n",
              "      <td>0.02270</td>\n",
              "      <td>0.000000</td>\n",
              "      <td>0.7930</td>\n",
              "      <td>0.241</td>\n",
              "      <td>100.100</td>\n",
              "      <td>audio_features</td>\n",
              "      <td>4PTPZeJlK1rYlYr6bf11hk</td>\n",
              "      <td>spotify:track:4PTPZeJlK1rYlYr6bf11hk</td>\n",
              "      <td>https://api.spotify.com/v1/tracks/4PTPZeJlK1rY...</td>\n",
              "      <td>https://api.spotify.com/v1/audio-analysis/4PTP...</td>\n",
              "      <td>192720</td>\n",
              "      <td>4</td>\n",
              "      <td>You're On (feat. Kyan)</td>\n",
              "      <td>['Madeon', 'Kyan']</td>\n",
              "      <td>M</td>\n",
              "      <td>colab</td>\n",
              "      <td>NaN</td>\n",
              "      <td>2</td>\n",
              "      <td>English</td>\n",
              "      <td>R</td>\n",
              "    </tr>\n",
              "  </tbody>\n",
              "</table>\n",
              "<p>1001 rows × 26 columns</p>\n",
              "</div>"
            ],
            "text/plain": [
              "      danceability  energy  key  ...  number_integrants  Song Language  Do we like?\n",
              "0            0.488   0.493    7  ...                  1        English            F\n",
              "1            0.695   0.847    8  ...                  1        English            F\n",
              "2            0.619   0.719    0  ...                  2        English            F\n",
              "3            0.226   0.594    7  ...                  1        English            F\n",
              "4            0.636   0.763    2  ...                  1        English            F\n",
              "...            ...     ...  ...  ...                ...            ...          ...\n",
              "996          0.787   0.705    0  ...                  1        Spanish           RF\n",
              "997          0.702   0.825    6  ...                  2        English           RF\n",
              "998          0.547   0.789    8  ...                  2        English            R\n",
              "999          0.499   0.792    4  ...                  2        English            R\n",
              "1000         0.490   0.914   10  ...                  2        English            R\n",
              "\n",
              "[1001 rows x 26 columns]"
            ]
          },
          "metadata": {
            "tags": []
          },
          "execution_count": 3
        }
      ]
    },
    {
      "cell_type": "code",
      "metadata": {
        "id": "V-3UEsHBLPZX"
      },
      "source": [
        "columns_to_delete=['id','uri','type','track_href','analysis_url']"
      ],
      "execution_count": 4,
      "outputs": []
    },
    {
      "cell_type": "code",
      "metadata": {
        "id": "j4hGsl_eOBuR"
      },
      "source": [
        "for i in columns_to_delete:\r\n",
        "  n=i\r\n",
        "  df.drop(n, inplace=True, axis=1)"
      ],
      "execution_count": 5,
      "outputs": []
    },
    {
      "cell_type": "code",
      "metadata": {
        "colab": {
          "base_uri": "https://localhost:8080/",
          "height": 779
        },
        "id": "8nfdYuq8LPgI",
        "outputId": "04b744f5-96f9-4476-90f3-16760bf18004"
      },
      "source": [
        "df"
      ],
      "execution_count": 6,
      "outputs": [
        {
          "output_type": "execute_result",
          "data": {
            "text/html": [
              "<div>\n",
              "<style scoped>\n",
              "    .dataframe tbody tr th:only-of-type {\n",
              "        vertical-align: middle;\n",
              "    }\n",
              "\n",
              "    .dataframe tbody tr th {\n",
              "        vertical-align: top;\n",
              "    }\n",
              "\n",
              "    .dataframe thead th {\n",
              "        text-align: right;\n",
              "    }\n",
              "</style>\n",
              "<table border=\"1\" class=\"dataframe\">\n",
              "  <thead>\n",
              "    <tr style=\"text-align: right;\">\n",
              "      <th></th>\n",
              "      <th>danceability</th>\n",
              "      <th>energy</th>\n",
              "      <th>key</th>\n",
              "      <th>loudness</th>\n",
              "      <th>mode</th>\n",
              "      <th>speechiness</th>\n",
              "      <th>acousticness</th>\n",
              "      <th>instrumentalness</th>\n",
              "      <th>liveness</th>\n",
              "      <th>valence</th>\n",
              "      <th>tempo</th>\n",
              "      <th>duration_ms</th>\n",
              "      <th>time_signature</th>\n",
              "      <th>song_name</th>\n",
              "      <th>artist(s)</th>\n",
              "      <th>gender(of the atrist(s))</th>\n",
              "      <th>type(solo, colab, grpup/band)</th>\n",
              "      <th>country</th>\n",
              "      <th>number_integrants</th>\n",
              "      <th>Song Language</th>\n",
              "      <th>Do we like?</th>\n",
              "    </tr>\n",
              "  </thead>\n",
              "  <tbody>\n",
              "    <tr>\n",
              "      <th>0</th>\n",
              "      <td>0.488</td>\n",
              "      <td>0.493</td>\n",
              "      <td>7</td>\n",
              "      <td>-7.870</td>\n",
              "      <td>1</td>\n",
              "      <td>0.0342</td>\n",
              "      <td>0.17400</td>\n",
              "      <td>0.000002</td>\n",
              "      <td>0.3530</td>\n",
              "      <td>0.399</td>\n",
              "      <td>79.442</td>\n",
              "      <td>247920</td>\n",
              "      <td>4</td>\n",
              "      <td>Held Down</td>\n",
              "      <td>['Laura Marling']</td>\n",
              "      <td>F</td>\n",
              "      <td>solo</td>\n",
              "      <td>England</td>\n",
              "      <td>1</td>\n",
              "      <td>English</td>\n",
              "      <td>F</td>\n",
              "    </tr>\n",
              "    <tr>\n",
              "      <th>1</th>\n",
              "      <td>0.695</td>\n",
              "      <td>0.847</td>\n",
              "      <td>8</td>\n",
              "      <td>-5.539</td>\n",
              "      <td>1</td>\n",
              "      <td>0.0485</td>\n",
              "      <td>0.44700</td>\n",
              "      <td>0.071000</td>\n",
              "      <td>0.2160</td>\n",
              "      <td>0.825</td>\n",
              "      <td>116.092</td>\n",
              "      <td>179987</td>\n",
              "      <td>4</td>\n",
              "      <td>Blank Slate</td>\n",
              "      <td>['Chicano Batman']</td>\n",
              "      <td>M</td>\n",
              "      <td>band</td>\n",
              "      <td>United States</td>\n",
              "      <td>1</td>\n",
              "      <td>English</td>\n",
              "      <td>F</td>\n",
              "    </tr>\n",
              "    <tr>\n",
              "      <th>2</th>\n",
              "      <td>0.619</td>\n",
              "      <td>0.719</td>\n",
              "      <td>0</td>\n",
              "      <td>-4.111</td>\n",
              "      <td>1</td>\n",
              "      <td>0.1570</td>\n",
              "      <td>0.02270</td>\n",
              "      <td>0.000000</td>\n",
              "      <td>0.0839</td>\n",
              "      <td>0.351</td>\n",
              "      <td>86.036</td>\n",
              "      <td>194576</td>\n",
              "      <td>4</td>\n",
              "      <td>Back Home (feat. Summer Walker)</td>\n",
              "      <td>['Trey Songz', 'Summer Walker']</td>\n",
              "      <td>V</td>\n",
              "      <td>colab</td>\n",
              "      <td>United States</td>\n",
              "      <td>2</td>\n",
              "      <td>English</td>\n",
              "      <td>F</td>\n",
              "    </tr>\n",
              "    <tr>\n",
              "      <th>3</th>\n",
              "      <td>0.226</td>\n",
              "      <td>0.594</td>\n",
              "      <td>7</td>\n",
              "      <td>-5.046</td>\n",
              "      <td>1</td>\n",
              "      <td>0.0425</td>\n",
              "      <td>0.03590</td>\n",
              "      <td>0.005030</td>\n",
              "      <td>0.1620</td>\n",
              "      <td>0.175</td>\n",
              "      <td>87.500</td>\n",
              "      <td>293600</td>\n",
              "      <td>4</td>\n",
              "      <td>Ohio</td>\n",
              "      <td>['King Princess']</td>\n",
              "      <td>F</td>\n",
              "      <td>solo</td>\n",
              "      <td>United States</td>\n",
              "      <td>1</td>\n",
              "      <td>English</td>\n",
              "      <td>F</td>\n",
              "    </tr>\n",
              "    <tr>\n",
              "      <th>4</th>\n",
              "      <td>0.636</td>\n",
              "      <td>0.763</td>\n",
              "      <td>2</td>\n",
              "      <td>-8.099</td>\n",
              "      <td>1</td>\n",
              "      <td>0.0441</td>\n",
              "      <td>0.13500</td>\n",
              "      <td>0.107000</td>\n",
              "      <td>0.0595</td>\n",
              "      <td>0.320</td>\n",
              "      <td>132.666</td>\n",
              "      <td>179040</td>\n",
              "      <td>4</td>\n",
              "      <td>Cellular</td>\n",
              "      <td>['King Krule']</td>\n",
              "      <td>M</td>\n",
              "      <td>solo</td>\n",
              "      <td>England</td>\n",
              "      <td>1</td>\n",
              "      <td>English</td>\n",
              "      <td>F</td>\n",
              "    </tr>\n",
              "    <tr>\n",
              "      <th>...</th>\n",
              "      <td>...</td>\n",
              "      <td>...</td>\n",
              "      <td>...</td>\n",
              "      <td>...</td>\n",
              "      <td>...</td>\n",
              "      <td>...</td>\n",
              "      <td>...</td>\n",
              "      <td>...</td>\n",
              "      <td>...</td>\n",
              "      <td>...</td>\n",
              "      <td>...</td>\n",
              "      <td>...</td>\n",
              "      <td>...</td>\n",
              "      <td>...</td>\n",
              "      <td>...</td>\n",
              "      <td>...</td>\n",
              "      <td>...</td>\n",
              "      <td>...</td>\n",
              "      <td>...</td>\n",
              "      <td>...</td>\n",
              "      <td>...</td>\n",
              "    </tr>\n",
              "    <tr>\n",
              "      <th>996</th>\n",
              "      <td>0.787</td>\n",
              "      <td>0.705</td>\n",
              "      <td>0</td>\n",
              "      <td>-7.582</td>\n",
              "      <td>1</td>\n",
              "      <td>0.0695</td>\n",
              "      <td>0.13700</td>\n",
              "      <td>0.000001</td>\n",
              "      <td>0.1080</td>\n",
              "      <td>0.499</td>\n",
              "      <td>81.998</td>\n",
              "      <td>188654</td>\n",
              "      <td>4</td>\n",
              "      <td>Cuando Perriabas</td>\n",
              "      <td>['Bad Bunny']</td>\n",
              "      <td>M</td>\n",
              "      <td>solo</td>\n",
              "      <td>NaN</td>\n",
              "      <td>1</td>\n",
              "      <td>Spanish</td>\n",
              "      <td>RF</td>\n",
              "    </tr>\n",
              "    <tr>\n",
              "      <th>997</th>\n",
              "      <td>0.702</td>\n",
              "      <td>0.825</td>\n",
              "      <td>6</td>\n",
              "      <td>-3.787</td>\n",
              "      <td>0</td>\n",
              "      <td>0.0601</td>\n",
              "      <td>0.00883</td>\n",
              "      <td>0.000000</td>\n",
              "      <td>0.0674</td>\n",
              "      <td>0.915</td>\n",
              "      <td>102.977</td>\n",
              "      <td>203064</td>\n",
              "      <td>4</td>\n",
              "      <td>Levitating (feat. DaBaby)</td>\n",
              "      <td>['Dua Lipa', 'DaBaby']</td>\n",
              "      <td>V</td>\n",
              "      <td>colab</td>\n",
              "      <td>NaN</td>\n",
              "      <td>2</td>\n",
              "      <td>English</td>\n",
              "      <td>RF</td>\n",
              "    </tr>\n",
              "    <tr>\n",
              "      <th>998</th>\n",
              "      <td>0.547</td>\n",
              "      <td>0.789</td>\n",
              "      <td>8</td>\n",
              "      <td>-5.619</td>\n",
              "      <td>1</td>\n",
              "      <td>0.0420</td>\n",
              "      <td>0.00871</td>\n",
              "      <td>0.000000</td>\n",
              "      <td>0.1000</td>\n",
              "      <td>0.345</td>\n",
              "      <td>129.916</td>\n",
              "      <td>193911</td>\n",
              "      <td>4</td>\n",
              "      <td>When We Were Young</td>\n",
              "      <td>['Lost Kings', 'Norma Jean Martine']</td>\n",
              "      <td>V</td>\n",
              "      <td>colab</td>\n",
              "      <td>NaN</td>\n",
              "      <td>2</td>\n",
              "      <td>English</td>\n",
              "      <td>R</td>\n",
              "    </tr>\n",
              "    <tr>\n",
              "      <th>999</th>\n",
              "      <td>0.499</td>\n",
              "      <td>0.792</td>\n",
              "      <td>4</td>\n",
              "      <td>-4.380</td>\n",
              "      <td>1</td>\n",
              "      <td>0.0710</td>\n",
              "      <td>0.01310</td>\n",
              "      <td>0.000505</td>\n",
              "      <td>0.1100</td>\n",
              "      <td>0.341</td>\n",
              "      <td>159.946</td>\n",
              "      <td>242750</td>\n",
              "      <td>4</td>\n",
              "      <td>Serenity</td>\n",
              "      <td>['Chamsi', 'AJ Euro']</td>\n",
              "      <td>V</td>\n",
              "      <td>colab</td>\n",
              "      <td>NaN</td>\n",
              "      <td>2</td>\n",
              "      <td>English</td>\n",
              "      <td>R</td>\n",
              "    </tr>\n",
              "    <tr>\n",
              "      <th>1000</th>\n",
              "      <td>0.490</td>\n",
              "      <td>0.914</td>\n",
              "      <td>10</td>\n",
              "      <td>-3.202</td>\n",
              "      <td>1</td>\n",
              "      <td>0.1670</td>\n",
              "      <td>0.02270</td>\n",
              "      <td>0.000000</td>\n",
              "      <td>0.7930</td>\n",
              "      <td>0.241</td>\n",
              "      <td>100.100</td>\n",
              "      <td>192720</td>\n",
              "      <td>4</td>\n",
              "      <td>You're On (feat. Kyan)</td>\n",
              "      <td>['Madeon', 'Kyan']</td>\n",
              "      <td>M</td>\n",
              "      <td>colab</td>\n",
              "      <td>NaN</td>\n",
              "      <td>2</td>\n",
              "      <td>English</td>\n",
              "      <td>R</td>\n",
              "    </tr>\n",
              "  </tbody>\n",
              "</table>\n",
              "<p>1001 rows × 21 columns</p>\n",
              "</div>"
            ],
            "text/plain": [
              "      danceability  energy  key  ...  number_integrants  Song Language  Do we like?\n",
              "0            0.488   0.493    7  ...                  1        English            F\n",
              "1            0.695   0.847    8  ...                  1        English            F\n",
              "2            0.619   0.719    0  ...                  2        English            F\n",
              "3            0.226   0.594    7  ...                  1        English            F\n",
              "4            0.636   0.763    2  ...                  1        English            F\n",
              "...            ...     ...  ...  ...                ...            ...          ...\n",
              "996          0.787   0.705    0  ...                  1        Spanish           RF\n",
              "997          0.702   0.825    6  ...                  2        English           RF\n",
              "998          0.547   0.789    8  ...                  2        English            R\n",
              "999          0.499   0.792    4  ...                  2        English            R\n",
              "1000         0.490   0.914   10  ...                  2        English            R\n",
              "\n",
              "[1001 rows x 21 columns]"
            ]
          },
          "metadata": {
            "tags": []
          },
          "execution_count": 6
        }
      ]
    },
    {
      "cell_type": "code",
      "metadata": {
        "id": "aFUjdWT_LPm9"
      },
      "source": [
        "song_name=df['song_name']\r\n",
        "artists=df['artist(s)']"
      ],
      "execution_count": 7,
      "outputs": []
    },
    {
      "cell_type": "code",
      "metadata": {
        "colab": {
          "base_uri": "https://localhost:8080/"
        },
        "id": "sYdAvJeoPECW",
        "outputId": "73062200-a4a6-4970-ed26-95cf782dc57f"
      },
      "source": [
        "artists"
      ],
      "execution_count": 8,
      "outputs": [
        {
          "output_type": "execute_result",
          "data": {
            "text/plain": [
              "0                          ['Laura Marling']\n",
              "1                         ['Chicano Batman']\n",
              "2            ['Trey Songz', 'Summer Walker']\n",
              "3                          ['King Princess']\n",
              "4                             ['King Krule']\n",
              "                        ...                 \n",
              "996                            ['Bad Bunny']\n",
              "997                   ['Dua Lipa', 'DaBaby']\n",
              "998     ['Lost Kings', 'Norma Jean Martine']\n",
              "999                    ['Chamsi', 'AJ Euro']\n",
              "1000                      ['Madeon', 'Kyan']\n",
              "Name: artist(s), Length: 1001, dtype: object"
            ]
          },
          "metadata": {
            "tags": []
          },
          "execution_count": 8
        }
      ]
    },
    {
      "cell_type": "code",
      "metadata": {
        "id": "qgvAq-knPHpX"
      },
      "source": [
        "df.drop('artist(s)', inplace=True, axis=1)\r\n",
        "df.drop('song_name', inplace=True, axis=1)"
      ],
      "execution_count": 9,
      "outputs": []
    },
    {
      "cell_type": "code",
      "metadata": {
        "colab": {
          "base_uri": "https://localhost:8080/",
          "height": 524
        },
        "id": "YN8cXtnEPRqA",
        "outputId": "05975c27-954f-4b8d-ec53-da5eab878687"
      },
      "source": [
        "df"
      ],
      "execution_count": 10,
      "outputs": [
        {
          "output_type": "execute_result",
          "data": {
            "text/html": [
              "<div>\n",
              "<style scoped>\n",
              "    .dataframe tbody tr th:only-of-type {\n",
              "        vertical-align: middle;\n",
              "    }\n",
              "\n",
              "    .dataframe tbody tr th {\n",
              "        vertical-align: top;\n",
              "    }\n",
              "\n",
              "    .dataframe thead th {\n",
              "        text-align: right;\n",
              "    }\n",
              "</style>\n",
              "<table border=\"1\" class=\"dataframe\">\n",
              "  <thead>\n",
              "    <tr style=\"text-align: right;\">\n",
              "      <th></th>\n",
              "      <th>danceability</th>\n",
              "      <th>energy</th>\n",
              "      <th>key</th>\n",
              "      <th>loudness</th>\n",
              "      <th>mode</th>\n",
              "      <th>speechiness</th>\n",
              "      <th>acousticness</th>\n",
              "      <th>instrumentalness</th>\n",
              "      <th>liveness</th>\n",
              "      <th>valence</th>\n",
              "      <th>tempo</th>\n",
              "      <th>duration_ms</th>\n",
              "      <th>time_signature</th>\n",
              "      <th>gender(of the atrist(s))</th>\n",
              "      <th>type(solo, colab, grpup/band)</th>\n",
              "      <th>country</th>\n",
              "      <th>number_integrants</th>\n",
              "      <th>Song Language</th>\n",
              "      <th>Do we like?</th>\n",
              "    </tr>\n",
              "  </thead>\n",
              "  <tbody>\n",
              "    <tr>\n",
              "      <th>0</th>\n",
              "      <td>0.488</td>\n",
              "      <td>0.493</td>\n",
              "      <td>7</td>\n",
              "      <td>-7.870</td>\n",
              "      <td>1</td>\n",
              "      <td>0.0342</td>\n",
              "      <td>0.17400</td>\n",
              "      <td>0.000002</td>\n",
              "      <td>0.3530</td>\n",
              "      <td>0.399</td>\n",
              "      <td>79.442</td>\n",
              "      <td>247920</td>\n",
              "      <td>4</td>\n",
              "      <td>F</td>\n",
              "      <td>solo</td>\n",
              "      <td>England</td>\n",
              "      <td>1</td>\n",
              "      <td>English</td>\n",
              "      <td>F</td>\n",
              "    </tr>\n",
              "    <tr>\n",
              "      <th>1</th>\n",
              "      <td>0.695</td>\n",
              "      <td>0.847</td>\n",
              "      <td>8</td>\n",
              "      <td>-5.539</td>\n",
              "      <td>1</td>\n",
              "      <td>0.0485</td>\n",
              "      <td>0.44700</td>\n",
              "      <td>0.071000</td>\n",
              "      <td>0.2160</td>\n",
              "      <td>0.825</td>\n",
              "      <td>116.092</td>\n",
              "      <td>179987</td>\n",
              "      <td>4</td>\n",
              "      <td>M</td>\n",
              "      <td>band</td>\n",
              "      <td>United States</td>\n",
              "      <td>1</td>\n",
              "      <td>English</td>\n",
              "      <td>F</td>\n",
              "    </tr>\n",
              "    <tr>\n",
              "      <th>2</th>\n",
              "      <td>0.619</td>\n",
              "      <td>0.719</td>\n",
              "      <td>0</td>\n",
              "      <td>-4.111</td>\n",
              "      <td>1</td>\n",
              "      <td>0.1570</td>\n",
              "      <td>0.02270</td>\n",
              "      <td>0.000000</td>\n",
              "      <td>0.0839</td>\n",
              "      <td>0.351</td>\n",
              "      <td>86.036</td>\n",
              "      <td>194576</td>\n",
              "      <td>4</td>\n",
              "      <td>V</td>\n",
              "      <td>colab</td>\n",
              "      <td>United States</td>\n",
              "      <td>2</td>\n",
              "      <td>English</td>\n",
              "      <td>F</td>\n",
              "    </tr>\n",
              "    <tr>\n",
              "      <th>3</th>\n",
              "      <td>0.226</td>\n",
              "      <td>0.594</td>\n",
              "      <td>7</td>\n",
              "      <td>-5.046</td>\n",
              "      <td>1</td>\n",
              "      <td>0.0425</td>\n",
              "      <td>0.03590</td>\n",
              "      <td>0.005030</td>\n",
              "      <td>0.1620</td>\n",
              "      <td>0.175</td>\n",
              "      <td>87.500</td>\n",
              "      <td>293600</td>\n",
              "      <td>4</td>\n",
              "      <td>F</td>\n",
              "      <td>solo</td>\n",
              "      <td>United States</td>\n",
              "      <td>1</td>\n",
              "      <td>English</td>\n",
              "      <td>F</td>\n",
              "    </tr>\n",
              "    <tr>\n",
              "      <th>4</th>\n",
              "      <td>0.636</td>\n",
              "      <td>0.763</td>\n",
              "      <td>2</td>\n",
              "      <td>-8.099</td>\n",
              "      <td>1</td>\n",
              "      <td>0.0441</td>\n",
              "      <td>0.13500</td>\n",
              "      <td>0.107000</td>\n",
              "      <td>0.0595</td>\n",
              "      <td>0.320</td>\n",
              "      <td>132.666</td>\n",
              "      <td>179040</td>\n",
              "      <td>4</td>\n",
              "      <td>M</td>\n",
              "      <td>solo</td>\n",
              "      <td>England</td>\n",
              "      <td>1</td>\n",
              "      <td>English</td>\n",
              "      <td>F</td>\n",
              "    </tr>\n",
              "    <tr>\n",
              "      <th>...</th>\n",
              "      <td>...</td>\n",
              "      <td>...</td>\n",
              "      <td>...</td>\n",
              "      <td>...</td>\n",
              "      <td>...</td>\n",
              "      <td>...</td>\n",
              "      <td>...</td>\n",
              "      <td>...</td>\n",
              "      <td>...</td>\n",
              "      <td>...</td>\n",
              "      <td>...</td>\n",
              "      <td>...</td>\n",
              "      <td>...</td>\n",
              "      <td>...</td>\n",
              "      <td>...</td>\n",
              "      <td>...</td>\n",
              "      <td>...</td>\n",
              "      <td>...</td>\n",
              "      <td>...</td>\n",
              "    </tr>\n",
              "    <tr>\n",
              "      <th>996</th>\n",
              "      <td>0.787</td>\n",
              "      <td>0.705</td>\n",
              "      <td>0</td>\n",
              "      <td>-7.582</td>\n",
              "      <td>1</td>\n",
              "      <td>0.0695</td>\n",
              "      <td>0.13700</td>\n",
              "      <td>0.000001</td>\n",
              "      <td>0.1080</td>\n",
              "      <td>0.499</td>\n",
              "      <td>81.998</td>\n",
              "      <td>188654</td>\n",
              "      <td>4</td>\n",
              "      <td>M</td>\n",
              "      <td>solo</td>\n",
              "      <td>NaN</td>\n",
              "      <td>1</td>\n",
              "      <td>Spanish</td>\n",
              "      <td>RF</td>\n",
              "    </tr>\n",
              "    <tr>\n",
              "      <th>997</th>\n",
              "      <td>0.702</td>\n",
              "      <td>0.825</td>\n",
              "      <td>6</td>\n",
              "      <td>-3.787</td>\n",
              "      <td>0</td>\n",
              "      <td>0.0601</td>\n",
              "      <td>0.00883</td>\n",
              "      <td>0.000000</td>\n",
              "      <td>0.0674</td>\n",
              "      <td>0.915</td>\n",
              "      <td>102.977</td>\n",
              "      <td>203064</td>\n",
              "      <td>4</td>\n",
              "      <td>V</td>\n",
              "      <td>colab</td>\n",
              "      <td>NaN</td>\n",
              "      <td>2</td>\n",
              "      <td>English</td>\n",
              "      <td>RF</td>\n",
              "    </tr>\n",
              "    <tr>\n",
              "      <th>998</th>\n",
              "      <td>0.547</td>\n",
              "      <td>0.789</td>\n",
              "      <td>8</td>\n",
              "      <td>-5.619</td>\n",
              "      <td>1</td>\n",
              "      <td>0.0420</td>\n",
              "      <td>0.00871</td>\n",
              "      <td>0.000000</td>\n",
              "      <td>0.1000</td>\n",
              "      <td>0.345</td>\n",
              "      <td>129.916</td>\n",
              "      <td>193911</td>\n",
              "      <td>4</td>\n",
              "      <td>V</td>\n",
              "      <td>colab</td>\n",
              "      <td>NaN</td>\n",
              "      <td>2</td>\n",
              "      <td>English</td>\n",
              "      <td>R</td>\n",
              "    </tr>\n",
              "    <tr>\n",
              "      <th>999</th>\n",
              "      <td>0.499</td>\n",
              "      <td>0.792</td>\n",
              "      <td>4</td>\n",
              "      <td>-4.380</td>\n",
              "      <td>1</td>\n",
              "      <td>0.0710</td>\n",
              "      <td>0.01310</td>\n",
              "      <td>0.000505</td>\n",
              "      <td>0.1100</td>\n",
              "      <td>0.341</td>\n",
              "      <td>159.946</td>\n",
              "      <td>242750</td>\n",
              "      <td>4</td>\n",
              "      <td>V</td>\n",
              "      <td>colab</td>\n",
              "      <td>NaN</td>\n",
              "      <td>2</td>\n",
              "      <td>English</td>\n",
              "      <td>R</td>\n",
              "    </tr>\n",
              "    <tr>\n",
              "      <th>1000</th>\n",
              "      <td>0.490</td>\n",
              "      <td>0.914</td>\n",
              "      <td>10</td>\n",
              "      <td>-3.202</td>\n",
              "      <td>1</td>\n",
              "      <td>0.1670</td>\n",
              "      <td>0.02270</td>\n",
              "      <td>0.000000</td>\n",
              "      <td>0.7930</td>\n",
              "      <td>0.241</td>\n",
              "      <td>100.100</td>\n",
              "      <td>192720</td>\n",
              "      <td>4</td>\n",
              "      <td>M</td>\n",
              "      <td>colab</td>\n",
              "      <td>NaN</td>\n",
              "      <td>2</td>\n",
              "      <td>English</td>\n",
              "      <td>R</td>\n",
              "    </tr>\n",
              "  </tbody>\n",
              "</table>\n",
              "<p>1001 rows × 19 columns</p>\n",
              "</div>"
            ],
            "text/plain": [
              "      danceability  energy  key  ...  number_integrants  Song Language  Do we like?\n",
              "0            0.488   0.493    7  ...                  1        English            F\n",
              "1            0.695   0.847    8  ...                  1        English            F\n",
              "2            0.619   0.719    0  ...                  2        English            F\n",
              "3            0.226   0.594    7  ...                  1        English            F\n",
              "4            0.636   0.763    2  ...                  1        English            F\n",
              "...            ...     ...  ...  ...                ...            ...          ...\n",
              "996          0.787   0.705    0  ...                  1        Spanish           RF\n",
              "997          0.702   0.825    6  ...                  2        English           RF\n",
              "998          0.547   0.789    8  ...                  2        English            R\n",
              "999          0.499   0.792    4  ...                  2        English            R\n",
              "1000         0.490   0.914   10  ...                  2        English            R\n",
              "\n",
              "[1001 rows x 19 columns]"
            ]
          },
          "metadata": {
            "tags": []
          },
          "execution_count": 10
        }
      ]
    },
    {
      "cell_type": "code",
      "metadata": {
        "id": "NyHCZIiaPmUw"
      },
      "source": [
        "countries=df['country'].unique()"
      ],
      "execution_count": 11,
      "outputs": []
    },
    {
      "cell_type": "code",
      "metadata": {
        "colab": {
          "base_uri": "https://localhost:8080/"
        },
        "id": "aGXjL494Pmlp",
        "outputId": "28e2cb2c-e505-4c1e-bec0-8870bd11bf00"
      },
      "source": [
        "countries"
      ],
      "execution_count": 12,
      "outputs": [
        {
          "output_type": "execute_result",
          "data": {
            "text/plain": [
              "array(['England', 'United States', 'Canada', 'Spain', 'France', 'Chile',\n",
              "       'Puerto Rico', 'Argentina', 'Mexico', 'Colombia', 'Peru', 'Norway',\n",
              "       'Germany', 'Japan', 'Australia', 'Sweden', 'Nigeria', 'Malaysia',\n",
              "       'Korea', 'Venezuela', '-', 'Panama', 'Ireland', 'Zimbawe',\n",
              "       'Switzerland', 'New Zeland', 'Sudan', 'Dominican Republic',\n",
              "       'Belarus', 'Iran', 'Italy', 'Cuba', 'Mali', 'Netherlands', 'UK',\n",
              "       'Yugoslavia', 'South Africa', 'Israel', 'Denmark', 'Rusia',\n",
              "       'Brazil', 'Poland', nan, 'Belgium', 'Greece'], dtype=object)"
            ]
          },
          "metadata": {
            "tags": []
          },
          "execution_count": 12
        }
      ]
    },
    {
      "cell_type": "code",
      "metadata": {
        "id": "U1Zs4wYKPmx5"
      },
      "source": [
        "dic_country = {key: i+1 for i,key in enumerate(countries)}"
      ],
      "execution_count": 13,
      "outputs": []
    },
    {
      "cell_type": "code",
      "metadata": {
        "colab": {
          "base_uri": "https://localhost:8080/"
        },
        "id": "r0lkfSDTQhjn",
        "outputId": "bf142c72-95f6-4c28-d32d-876e13b9c2c0"
      },
      "source": [
        "dic_country"
      ],
      "execution_count": 14,
      "outputs": [
        {
          "output_type": "execute_result",
          "data": {
            "text/plain": [
              "{'-': 21,\n",
              " 'Argentina': 8,\n",
              " 'Australia': 15,\n",
              " 'Belarus': 29,\n",
              " 'Belgium': 44,\n",
              " 'Brazil': 41,\n",
              " 'Canada': 3,\n",
              " 'Chile': 6,\n",
              " 'Colombia': 10,\n",
              " 'Cuba': 32,\n",
              " 'Denmark': 39,\n",
              " 'Dominican Republic': 28,\n",
              " 'England': 1,\n",
              " 'France': 5,\n",
              " 'Germany': 13,\n",
              " 'Greece': 45,\n",
              " 'Iran': 30,\n",
              " 'Ireland': 23,\n",
              " 'Israel': 38,\n",
              " 'Italy': 31,\n",
              " 'Japan': 14,\n",
              " 'Korea': 19,\n",
              " 'Malaysia': 18,\n",
              " 'Mali': 33,\n",
              " 'Mexico': 9,\n",
              " 'Netherlands': 34,\n",
              " 'New Zeland': 26,\n",
              " 'Nigeria': 17,\n",
              " 'Norway': 12,\n",
              " 'Panama': 22,\n",
              " 'Peru': 11,\n",
              " 'Poland': 42,\n",
              " 'Puerto Rico': 7,\n",
              " 'Rusia': 40,\n",
              " 'South Africa': 37,\n",
              " 'Spain': 4,\n",
              " 'Sudan': 27,\n",
              " 'Sweden': 16,\n",
              " 'Switzerland': 25,\n",
              " 'UK': 35,\n",
              " 'United States': 2,\n",
              " 'Venezuela': 20,\n",
              " 'Yugoslavia': 36,\n",
              " 'Zimbawe': 24,\n",
              " nan: 43}"
            ]
          },
          "metadata": {
            "tags": []
          },
          "execution_count": 14
        }
      ]
    },
    {
      "cell_type": "code",
      "metadata": {
        "id": "qdSxtSBNQhqI"
      },
      "source": [
        "df['country'].replace(dic_country,inplace=True)"
      ],
      "execution_count": 18,
      "outputs": []
    },
    {
      "cell_type": "code",
      "metadata": {
        "colab": {
          "base_uri": "https://localhost:8080/",
          "height": 473
        },
        "id": "JQgpj-jhQhxq",
        "outputId": "0b3bb19f-e57d-4a0f-ba7f-fe4d8df5cb98"
      },
      "source": [
        "df"
      ],
      "execution_count": 19,
      "outputs": [
        {
          "output_type": "execute_result",
          "data": {
            "text/html": [
              "<div>\n",
              "<style scoped>\n",
              "    .dataframe tbody tr th:only-of-type {\n",
              "        vertical-align: middle;\n",
              "    }\n",
              "\n",
              "    .dataframe tbody tr th {\n",
              "        vertical-align: top;\n",
              "    }\n",
              "\n",
              "    .dataframe thead th {\n",
              "        text-align: right;\n",
              "    }\n",
              "</style>\n",
              "<table border=\"1\" class=\"dataframe\">\n",
              "  <thead>\n",
              "    <tr style=\"text-align: right;\">\n",
              "      <th></th>\n",
              "      <th>danceability</th>\n",
              "      <th>energy</th>\n",
              "      <th>key</th>\n",
              "      <th>loudness</th>\n",
              "      <th>mode</th>\n",
              "      <th>speechiness</th>\n",
              "      <th>acousticness</th>\n",
              "      <th>instrumentalness</th>\n",
              "      <th>liveness</th>\n",
              "      <th>valence</th>\n",
              "      <th>tempo</th>\n",
              "      <th>duration_ms</th>\n",
              "      <th>time_signature</th>\n",
              "      <th>gender(of the atrist(s))</th>\n",
              "      <th>type(solo, colab, grpup/band)</th>\n",
              "      <th>country</th>\n",
              "      <th>number_integrants</th>\n",
              "      <th>Song Language</th>\n",
              "      <th>Do we like?</th>\n",
              "    </tr>\n",
              "  </thead>\n",
              "  <tbody>\n",
              "    <tr>\n",
              "      <th>0</th>\n",
              "      <td>0.488</td>\n",
              "      <td>0.493</td>\n",
              "      <td>7</td>\n",
              "      <td>-7.870</td>\n",
              "      <td>1</td>\n",
              "      <td>0.0342</td>\n",
              "      <td>0.17400</td>\n",
              "      <td>0.000002</td>\n",
              "      <td>0.3530</td>\n",
              "      <td>0.399</td>\n",
              "      <td>79.442</td>\n",
              "      <td>247920</td>\n",
              "      <td>4</td>\n",
              "      <td>F</td>\n",
              "      <td>solo</td>\n",
              "      <td>1</td>\n",
              "      <td>1</td>\n",
              "      <td>English</td>\n",
              "      <td>F</td>\n",
              "    </tr>\n",
              "    <tr>\n",
              "      <th>1</th>\n",
              "      <td>0.695</td>\n",
              "      <td>0.847</td>\n",
              "      <td>8</td>\n",
              "      <td>-5.539</td>\n",
              "      <td>1</td>\n",
              "      <td>0.0485</td>\n",
              "      <td>0.44700</td>\n",
              "      <td>0.071000</td>\n",
              "      <td>0.2160</td>\n",
              "      <td>0.825</td>\n",
              "      <td>116.092</td>\n",
              "      <td>179987</td>\n",
              "      <td>4</td>\n",
              "      <td>M</td>\n",
              "      <td>band</td>\n",
              "      <td>2</td>\n",
              "      <td>1</td>\n",
              "      <td>English</td>\n",
              "      <td>F</td>\n",
              "    </tr>\n",
              "    <tr>\n",
              "      <th>2</th>\n",
              "      <td>0.619</td>\n",
              "      <td>0.719</td>\n",
              "      <td>0</td>\n",
              "      <td>-4.111</td>\n",
              "      <td>1</td>\n",
              "      <td>0.1570</td>\n",
              "      <td>0.02270</td>\n",
              "      <td>0.000000</td>\n",
              "      <td>0.0839</td>\n",
              "      <td>0.351</td>\n",
              "      <td>86.036</td>\n",
              "      <td>194576</td>\n",
              "      <td>4</td>\n",
              "      <td>V</td>\n",
              "      <td>colab</td>\n",
              "      <td>2</td>\n",
              "      <td>2</td>\n",
              "      <td>English</td>\n",
              "      <td>F</td>\n",
              "    </tr>\n",
              "    <tr>\n",
              "      <th>3</th>\n",
              "      <td>0.226</td>\n",
              "      <td>0.594</td>\n",
              "      <td>7</td>\n",
              "      <td>-5.046</td>\n",
              "      <td>1</td>\n",
              "      <td>0.0425</td>\n",
              "      <td>0.03590</td>\n",
              "      <td>0.005030</td>\n",
              "      <td>0.1620</td>\n",
              "      <td>0.175</td>\n",
              "      <td>87.500</td>\n",
              "      <td>293600</td>\n",
              "      <td>4</td>\n",
              "      <td>F</td>\n",
              "      <td>solo</td>\n",
              "      <td>2</td>\n",
              "      <td>1</td>\n",
              "      <td>English</td>\n",
              "      <td>F</td>\n",
              "    </tr>\n",
              "    <tr>\n",
              "      <th>4</th>\n",
              "      <td>0.636</td>\n",
              "      <td>0.763</td>\n",
              "      <td>2</td>\n",
              "      <td>-8.099</td>\n",
              "      <td>1</td>\n",
              "      <td>0.0441</td>\n",
              "      <td>0.13500</td>\n",
              "      <td>0.107000</td>\n",
              "      <td>0.0595</td>\n",
              "      <td>0.320</td>\n",
              "      <td>132.666</td>\n",
              "      <td>179040</td>\n",
              "      <td>4</td>\n",
              "      <td>M</td>\n",
              "      <td>solo</td>\n",
              "      <td>1</td>\n",
              "      <td>1</td>\n",
              "      <td>English</td>\n",
              "      <td>F</td>\n",
              "    </tr>\n",
              "    <tr>\n",
              "      <th>...</th>\n",
              "      <td>...</td>\n",
              "      <td>...</td>\n",
              "      <td>...</td>\n",
              "      <td>...</td>\n",
              "      <td>...</td>\n",
              "      <td>...</td>\n",
              "      <td>...</td>\n",
              "      <td>...</td>\n",
              "      <td>...</td>\n",
              "      <td>...</td>\n",
              "      <td>...</td>\n",
              "      <td>...</td>\n",
              "      <td>...</td>\n",
              "      <td>...</td>\n",
              "      <td>...</td>\n",
              "      <td>...</td>\n",
              "      <td>...</td>\n",
              "      <td>...</td>\n",
              "      <td>...</td>\n",
              "    </tr>\n",
              "    <tr>\n",
              "      <th>996</th>\n",
              "      <td>0.787</td>\n",
              "      <td>0.705</td>\n",
              "      <td>0</td>\n",
              "      <td>-7.582</td>\n",
              "      <td>1</td>\n",
              "      <td>0.0695</td>\n",
              "      <td>0.13700</td>\n",
              "      <td>0.000001</td>\n",
              "      <td>0.1080</td>\n",
              "      <td>0.499</td>\n",
              "      <td>81.998</td>\n",
              "      <td>188654</td>\n",
              "      <td>4</td>\n",
              "      <td>M</td>\n",
              "      <td>solo</td>\n",
              "      <td>43</td>\n",
              "      <td>1</td>\n",
              "      <td>Spanish</td>\n",
              "      <td>RF</td>\n",
              "    </tr>\n",
              "    <tr>\n",
              "      <th>997</th>\n",
              "      <td>0.702</td>\n",
              "      <td>0.825</td>\n",
              "      <td>6</td>\n",
              "      <td>-3.787</td>\n",
              "      <td>0</td>\n",
              "      <td>0.0601</td>\n",
              "      <td>0.00883</td>\n",
              "      <td>0.000000</td>\n",
              "      <td>0.0674</td>\n",
              "      <td>0.915</td>\n",
              "      <td>102.977</td>\n",
              "      <td>203064</td>\n",
              "      <td>4</td>\n",
              "      <td>V</td>\n",
              "      <td>colab</td>\n",
              "      <td>43</td>\n",
              "      <td>2</td>\n",
              "      <td>English</td>\n",
              "      <td>RF</td>\n",
              "    </tr>\n",
              "    <tr>\n",
              "      <th>998</th>\n",
              "      <td>0.547</td>\n",
              "      <td>0.789</td>\n",
              "      <td>8</td>\n",
              "      <td>-5.619</td>\n",
              "      <td>1</td>\n",
              "      <td>0.0420</td>\n",
              "      <td>0.00871</td>\n",
              "      <td>0.000000</td>\n",
              "      <td>0.1000</td>\n",
              "      <td>0.345</td>\n",
              "      <td>129.916</td>\n",
              "      <td>193911</td>\n",
              "      <td>4</td>\n",
              "      <td>V</td>\n",
              "      <td>colab</td>\n",
              "      <td>43</td>\n",
              "      <td>2</td>\n",
              "      <td>English</td>\n",
              "      <td>R</td>\n",
              "    </tr>\n",
              "    <tr>\n",
              "      <th>999</th>\n",
              "      <td>0.499</td>\n",
              "      <td>0.792</td>\n",
              "      <td>4</td>\n",
              "      <td>-4.380</td>\n",
              "      <td>1</td>\n",
              "      <td>0.0710</td>\n",
              "      <td>0.01310</td>\n",
              "      <td>0.000505</td>\n",
              "      <td>0.1100</td>\n",
              "      <td>0.341</td>\n",
              "      <td>159.946</td>\n",
              "      <td>242750</td>\n",
              "      <td>4</td>\n",
              "      <td>V</td>\n",
              "      <td>colab</td>\n",
              "      <td>43</td>\n",
              "      <td>2</td>\n",
              "      <td>English</td>\n",
              "      <td>R</td>\n",
              "    </tr>\n",
              "    <tr>\n",
              "      <th>1000</th>\n",
              "      <td>0.490</td>\n",
              "      <td>0.914</td>\n",
              "      <td>10</td>\n",
              "      <td>-3.202</td>\n",
              "      <td>1</td>\n",
              "      <td>0.1670</td>\n",
              "      <td>0.02270</td>\n",
              "      <td>0.000000</td>\n",
              "      <td>0.7930</td>\n",
              "      <td>0.241</td>\n",
              "      <td>100.100</td>\n",
              "      <td>192720</td>\n",
              "      <td>4</td>\n",
              "      <td>M</td>\n",
              "      <td>colab</td>\n",
              "      <td>43</td>\n",
              "      <td>2</td>\n",
              "      <td>English</td>\n",
              "      <td>R</td>\n",
              "    </tr>\n",
              "  </tbody>\n",
              "</table>\n",
              "<p>1001 rows × 19 columns</p>\n",
              "</div>"
            ],
            "text/plain": [
              "      danceability  energy  key  ...  number_integrants  Song Language  Do we like?\n",
              "0            0.488   0.493    7  ...                  1        English            F\n",
              "1            0.695   0.847    8  ...                  1        English            F\n",
              "2            0.619   0.719    0  ...                  2        English            F\n",
              "3            0.226   0.594    7  ...                  1        English            F\n",
              "4            0.636   0.763    2  ...                  1        English            F\n",
              "...            ...     ...  ...  ...                ...            ...          ...\n",
              "996          0.787   0.705    0  ...                  1        Spanish           RF\n",
              "997          0.702   0.825    6  ...                  2        English           RF\n",
              "998          0.547   0.789    8  ...                  2        English            R\n",
              "999          0.499   0.792    4  ...                  2        English            R\n",
              "1000         0.490   0.914   10  ...                  2        English            R\n",
              "\n",
              "[1001 rows x 19 columns]"
            ]
          },
          "metadata": {
            "tags": []
          },
          "execution_count": 19
        }
      ]
    },
    {
      "cell_type": "code",
      "metadata": {
        "id": "_eyyoYo0Sf8z"
      },
      "source": [
        "typee = df['type(solo, colab, grpup/band)'].unique()\r\n",
        "dic_type = {key: i+1 for i,key in enumerate(typee)}"
      ],
      "execution_count": 20,
      "outputs": []
    },
    {
      "cell_type": "code",
      "metadata": {
        "colab": {
          "base_uri": "https://localhost:8080/"
        },
        "id": "mcVdO0EoTAoE",
        "outputId": "209fe9a0-461a-466b-87c7-5555c475de86"
      },
      "source": [
        "dic_type"
      ],
      "execution_count": 21,
      "outputs": [
        {
          "output_type": "execute_result",
          "data": {
            "text/plain": [
              "{'band': 2, 'band-colab': 4, 'colab': 3, 'solo': 1}"
            ]
          },
          "metadata": {
            "tags": []
          },
          "execution_count": 21
        }
      ]
    },
    {
      "cell_type": "code",
      "metadata": {
        "id": "AwXCdOFYQh53"
      },
      "source": [
        "df['type(solo, colab, grpup/band)'].replace(dic_type,inplace=True)"
      ],
      "execution_count": 22,
      "outputs": []
    },
    {
      "cell_type": "code",
      "metadata": {
        "id": "hRi_yV4YS-9r"
      },
      "source": [
        "gender = df['gender(of the atrist(s))'].unique()\r\n",
        "dic_gen = {key: i+1 for i,key in enumerate(gender)}"
      ],
      "execution_count": 23,
      "outputs": []
    },
    {
      "cell_type": "code",
      "metadata": {
        "colab": {
          "base_uri": "https://localhost:8080/"
        },
        "id": "Qy4sNqJfS_GI",
        "outputId": "6e296631-4f58-4eb6-cd89-3ff8bc09f26b"
      },
      "source": [
        "dic_gen"
      ],
      "execution_count": 24,
      "outputs": [
        {
          "output_type": "execute_result",
          "data": {
            "text/plain": [
              "{'-': 5, 'F': 1, 'M': 2, 'T': 4, 'V': 3}"
            ]
          },
          "metadata": {
            "tags": []
          },
          "execution_count": 24
        }
      ]
    },
    {
      "cell_type": "code",
      "metadata": {
        "id": "hMKNKlaKS_Oq"
      },
      "source": [
        "df['gender(of the atrist(s))'].replace(dic_gen,inplace=True)"
      ],
      "execution_count": 25,
      "outputs": []
    },
    {
      "cell_type": "code",
      "metadata": {
        "colab": {
          "base_uri": "https://localhost:8080/",
          "height": 473
        },
        "id": "-gnCuxisYISV",
        "outputId": "348a3d48-b243-4739-c89f-8fe00b85d5f0"
      },
      "source": [
        "df"
      ],
      "execution_count": 26,
      "outputs": [
        {
          "output_type": "execute_result",
          "data": {
            "text/html": [
              "<div>\n",
              "<style scoped>\n",
              "    .dataframe tbody tr th:only-of-type {\n",
              "        vertical-align: middle;\n",
              "    }\n",
              "\n",
              "    .dataframe tbody tr th {\n",
              "        vertical-align: top;\n",
              "    }\n",
              "\n",
              "    .dataframe thead th {\n",
              "        text-align: right;\n",
              "    }\n",
              "</style>\n",
              "<table border=\"1\" class=\"dataframe\">\n",
              "  <thead>\n",
              "    <tr style=\"text-align: right;\">\n",
              "      <th></th>\n",
              "      <th>danceability</th>\n",
              "      <th>energy</th>\n",
              "      <th>key</th>\n",
              "      <th>loudness</th>\n",
              "      <th>mode</th>\n",
              "      <th>speechiness</th>\n",
              "      <th>acousticness</th>\n",
              "      <th>instrumentalness</th>\n",
              "      <th>liveness</th>\n",
              "      <th>valence</th>\n",
              "      <th>tempo</th>\n",
              "      <th>duration_ms</th>\n",
              "      <th>time_signature</th>\n",
              "      <th>gender(of the atrist(s))</th>\n",
              "      <th>type(solo, colab, grpup/band)</th>\n",
              "      <th>country</th>\n",
              "      <th>number_integrants</th>\n",
              "      <th>Song Language</th>\n",
              "      <th>Do we like?</th>\n",
              "    </tr>\n",
              "  </thead>\n",
              "  <tbody>\n",
              "    <tr>\n",
              "      <th>0</th>\n",
              "      <td>0.488</td>\n",
              "      <td>0.493</td>\n",
              "      <td>7</td>\n",
              "      <td>-7.870</td>\n",
              "      <td>1</td>\n",
              "      <td>0.0342</td>\n",
              "      <td>0.17400</td>\n",
              "      <td>0.000002</td>\n",
              "      <td>0.3530</td>\n",
              "      <td>0.399</td>\n",
              "      <td>79.442</td>\n",
              "      <td>247920</td>\n",
              "      <td>4</td>\n",
              "      <td>1</td>\n",
              "      <td>1</td>\n",
              "      <td>1</td>\n",
              "      <td>1</td>\n",
              "      <td>English</td>\n",
              "      <td>F</td>\n",
              "    </tr>\n",
              "    <tr>\n",
              "      <th>1</th>\n",
              "      <td>0.695</td>\n",
              "      <td>0.847</td>\n",
              "      <td>8</td>\n",
              "      <td>-5.539</td>\n",
              "      <td>1</td>\n",
              "      <td>0.0485</td>\n",
              "      <td>0.44700</td>\n",
              "      <td>0.071000</td>\n",
              "      <td>0.2160</td>\n",
              "      <td>0.825</td>\n",
              "      <td>116.092</td>\n",
              "      <td>179987</td>\n",
              "      <td>4</td>\n",
              "      <td>2</td>\n",
              "      <td>2</td>\n",
              "      <td>2</td>\n",
              "      <td>1</td>\n",
              "      <td>English</td>\n",
              "      <td>F</td>\n",
              "    </tr>\n",
              "    <tr>\n",
              "      <th>2</th>\n",
              "      <td>0.619</td>\n",
              "      <td>0.719</td>\n",
              "      <td>0</td>\n",
              "      <td>-4.111</td>\n",
              "      <td>1</td>\n",
              "      <td>0.1570</td>\n",
              "      <td>0.02270</td>\n",
              "      <td>0.000000</td>\n",
              "      <td>0.0839</td>\n",
              "      <td>0.351</td>\n",
              "      <td>86.036</td>\n",
              "      <td>194576</td>\n",
              "      <td>4</td>\n",
              "      <td>3</td>\n",
              "      <td>3</td>\n",
              "      <td>2</td>\n",
              "      <td>2</td>\n",
              "      <td>English</td>\n",
              "      <td>F</td>\n",
              "    </tr>\n",
              "    <tr>\n",
              "      <th>3</th>\n",
              "      <td>0.226</td>\n",
              "      <td>0.594</td>\n",
              "      <td>7</td>\n",
              "      <td>-5.046</td>\n",
              "      <td>1</td>\n",
              "      <td>0.0425</td>\n",
              "      <td>0.03590</td>\n",
              "      <td>0.005030</td>\n",
              "      <td>0.1620</td>\n",
              "      <td>0.175</td>\n",
              "      <td>87.500</td>\n",
              "      <td>293600</td>\n",
              "      <td>4</td>\n",
              "      <td>1</td>\n",
              "      <td>1</td>\n",
              "      <td>2</td>\n",
              "      <td>1</td>\n",
              "      <td>English</td>\n",
              "      <td>F</td>\n",
              "    </tr>\n",
              "    <tr>\n",
              "      <th>4</th>\n",
              "      <td>0.636</td>\n",
              "      <td>0.763</td>\n",
              "      <td>2</td>\n",
              "      <td>-8.099</td>\n",
              "      <td>1</td>\n",
              "      <td>0.0441</td>\n",
              "      <td>0.13500</td>\n",
              "      <td>0.107000</td>\n",
              "      <td>0.0595</td>\n",
              "      <td>0.320</td>\n",
              "      <td>132.666</td>\n",
              "      <td>179040</td>\n",
              "      <td>4</td>\n",
              "      <td>2</td>\n",
              "      <td>1</td>\n",
              "      <td>1</td>\n",
              "      <td>1</td>\n",
              "      <td>English</td>\n",
              "      <td>F</td>\n",
              "    </tr>\n",
              "    <tr>\n",
              "      <th>...</th>\n",
              "      <td>...</td>\n",
              "      <td>...</td>\n",
              "      <td>...</td>\n",
              "      <td>...</td>\n",
              "      <td>...</td>\n",
              "      <td>...</td>\n",
              "      <td>...</td>\n",
              "      <td>...</td>\n",
              "      <td>...</td>\n",
              "      <td>...</td>\n",
              "      <td>...</td>\n",
              "      <td>...</td>\n",
              "      <td>...</td>\n",
              "      <td>...</td>\n",
              "      <td>...</td>\n",
              "      <td>...</td>\n",
              "      <td>...</td>\n",
              "      <td>...</td>\n",
              "      <td>...</td>\n",
              "    </tr>\n",
              "    <tr>\n",
              "      <th>996</th>\n",
              "      <td>0.787</td>\n",
              "      <td>0.705</td>\n",
              "      <td>0</td>\n",
              "      <td>-7.582</td>\n",
              "      <td>1</td>\n",
              "      <td>0.0695</td>\n",
              "      <td>0.13700</td>\n",
              "      <td>0.000001</td>\n",
              "      <td>0.1080</td>\n",
              "      <td>0.499</td>\n",
              "      <td>81.998</td>\n",
              "      <td>188654</td>\n",
              "      <td>4</td>\n",
              "      <td>2</td>\n",
              "      <td>1</td>\n",
              "      <td>43</td>\n",
              "      <td>1</td>\n",
              "      <td>Spanish</td>\n",
              "      <td>RF</td>\n",
              "    </tr>\n",
              "    <tr>\n",
              "      <th>997</th>\n",
              "      <td>0.702</td>\n",
              "      <td>0.825</td>\n",
              "      <td>6</td>\n",
              "      <td>-3.787</td>\n",
              "      <td>0</td>\n",
              "      <td>0.0601</td>\n",
              "      <td>0.00883</td>\n",
              "      <td>0.000000</td>\n",
              "      <td>0.0674</td>\n",
              "      <td>0.915</td>\n",
              "      <td>102.977</td>\n",
              "      <td>203064</td>\n",
              "      <td>4</td>\n",
              "      <td>3</td>\n",
              "      <td>3</td>\n",
              "      <td>43</td>\n",
              "      <td>2</td>\n",
              "      <td>English</td>\n",
              "      <td>RF</td>\n",
              "    </tr>\n",
              "    <tr>\n",
              "      <th>998</th>\n",
              "      <td>0.547</td>\n",
              "      <td>0.789</td>\n",
              "      <td>8</td>\n",
              "      <td>-5.619</td>\n",
              "      <td>1</td>\n",
              "      <td>0.0420</td>\n",
              "      <td>0.00871</td>\n",
              "      <td>0.000000</td>\n",
              "      <td>0.1000</td>\n",
              "      <td>0.345</td>\n",
              "      <td>129.916</td>\n",
              "      <td>193911</td>\n",
              "      <td>4</td>\n",
              "      <td>3</td>\n",
              "      <td>3</td>\n",
              "      <td>43</td>\n",
              "      <td>2</td>\n",
              "      <td>English</td>\n",
              "      <td>R</td>\n",
              "    </tr>\n",
              "    <tr>\n",
              "      <th>999</th>\n",
              "      <td>0.499</td>\n",
              "      <td>0.792</td>\n",
              "      <td>4</td>\n",
              "      <td>-4.380</td>\n",
              "      <td>1</td>\n",
              "      <td>0.0710</td>\n",
              "      <td>0.01310</td>\n",
              "      <td>0.000505</td>\n",
              "      <td>0.1100</td>\n",
              "      <td>0.341</td>\n",
              "      <td>159.946</td>\n",
              "      <td>242750</td>\n",
              "      <td>4</td>\n",
              "      <td>3</td>\n",
              "      <td>3</td>\n",
              "      <td>43</td>\n",
              "      <td>2</td>\n",
              "      <td>English</td>\n",
              "      <td>R</td>\n",
              "    </tr>\n",
              "    <tr>\n",
              "      <th>1000</th>\n",
              "      <td>0.490</td>\n",
              "      <td>0.914</td>\n",
              "      <td>10</td>\n",
              "      <td>-3.202</td>\n",
              "      <td>1</td>\n",
              "      <td>0.1670</td>\n",
              "      <td>0.02270</td>\n",
              "      <td>0.000000</td>\n",
              "      <td>0.7930</td>\n",
              "      <td>0.241</td>\n",
              "      <td>100.100</td>\n",
              "      <td>192720</td>\n",
              "      <td>4</td>\n",
              "      <td>2</td>\n",
              "      <td>3</td>\n",
              "      <td>43</td>\n",
              "      <td>2</td>\n",
              "      <td>English</td>\n",
              "      <td>R</td>\n",
              "    </tr>\n",
              "  </tbody>\n",
              "</table>\n",
              "<p>1001 rows × 19 columns</p>\n",
              "</div>"
            ],
            "text/plain": [
              "      danceability  energy  key  ...  number_integrants  Song Language  Do we like?\n",
              "0            0.488   0.493    7  ...                  1        English            F\n",
              "1            0.695   0.847    8  ...                  1        English            F\n",
              "2            0.619   0.719    0  ...                  2        English            F\n",
              "3            0.226   0.594    7  ...                  1        English            F\n",
              "4            0.636   0.763    2  ...                  1        English            F\n",
              "...            ...     ...  ...  ...                ...            ...          ...\n",
              "996          0.787   0.705    0  ...                  1        Spanish           RF\n",
              "997          0.702   0.825    6  ...                  2        English           RF\n",
              "998          0.547   0.789    8  ...                  2        English            R\n",
              "999          0.499   0.792    4  ...                  2        English            R\n",
              "1000         0.490   0.914   10  ...                  2        English            R\n",
              "\n",
              "[1001 rows x 19 columns]"
            ]
          },
          "metadata": {
            "tags": []
          },
          "execution_count": 26
        }
      ]
    },
    {
      "cell_type": "code",
      "metadata": {
        "id": "9nhtrddeVQAP"
      },
      "source": [
        "language = df['Song Language'].unique()\r\n",
        "dic_lan = {key: i+1 for i,key in enumerate(language)}"
      ],
      "execution_count": 27,
      "outputs": []
    },
    {
      "cell_type": "code",
      "metadata": {
        "colab": {
          "base_uri": "https://localhost:8080/"
        },
        "id": "HB-A5bShUoQM",
        "outputId": "1107c6f0-c968-46df-e412-f497be02040f"
      },
      "source": [
        "dic_lan"
      ],
      "execution_count": 28,
      "outputs": [
        {
          "output_type": "execute_result",
          "data": {
            "text/plain": [
              "{'English': 1,\n",
              " 'English-French': 9,\n",
              " 'English-Italian': 4,\n",
              " 'English-Korean': 5,\n",
              " 'English-Spanish': 7,\n",
              " 'French': 3,\n",
              " 'French-Spanish': 14,\n",
              " 'Korea': 10,\n",
              " 'Korean': 8,\n",
              " 'No/Lang': 6,\n",
              " 'Portuguese-Spanish': 13,\n",
              " 'Russian': 11,\n",
              " 'Spanish': 2,\n",
              " nan: 12}"
            ]
          },
          "metadata": {
            "tags": []
          },
          "execution_count": 28
        }
      ]
    },
    {
      "cell_type": "code",
      "metadata": {
        "id": "ugxwUCNVVlDO"
      },
      "source": [
        "df['Song Language'].replace(dic_lan,inplace=True)"
      ],
      "execution_count": 29,
      "outputs": []
    },
    {
      "cell_type": "code",
      "metadata": {
        "colab": {
          "base_uri": "https://localhost:8080/",
          "height": 473
        },
        "id": "_9-0RloZUocD",
        "outputId": "3089f5ff-24dc-4101-f47d-1da7ca187cdd"
      },
      "source": [
        "df"
      ],
      "execution_count": 31,
      "outputs": [
        {
          "output_type": "execute_result",
          "data": {
            "text/html": [
              "<div>\n",
              "<style scoped>\n",
              "    .dataframe tbody tr th:only-of-type {\n",
              "        vertical-align: middle;\n",
              "    }\n",
              "\n",
              "    .dataframe tbody tr th {\n",
              "        vertical-align: top;\n",
              "    }\n",
              "\n",
              "    .dataframe thead th {\n",
              "        text-align: right;\n",
              "    }\n",
              "</style>\n",
              "<table border=\"1\" class=\"dataframe\">\n",
              "  <thead>\n",
              "    <tr style=\"text-align: right;\">\n",
              "      <th></th>\n",
              "      <th>danceability</th>\n",
              "      <th>energy</th>\n",
              "      <th>key</th>\n",
              "      <th>loudness</th>\n",
              "      <th>mode</th>\n",
              "      <th>speechiness</th>\n",
              "      <th>acousticness</th>\n",
              "      <th>instrumentalness</th>\n",
              "      <th>liveness</th>\n",
              "      <th>valence</th>\n",
              "      <th>tempo</th>\n",
              "      <th>duration_ms</th>\n",
              "      <th>time_signature</th>\n",
              "      <th>gender(of the atrist(s))</th>\n",
              "      <th>type(solo, colab, grpup/band)</th>\n",
              "      <th>country</th>\n",
              "      <th>number_integrants</th>\n",
              "      <th>Song Language</th>\n",
              "      <th>Do we like?</th>\n",
              "    </tr>\n",
              "  </thead>\n",
              "  <tbody>\n",
              "    <tr>\n",
              "      <th>0</th>\n",
              "      <td>0.488</td>\n",
              "      <td>0.493</td>\n",
              "      <td>7</td>\n",
              "      <td>-7.870</td>\n",
              "      <td>1</td>\n",
              "      <td>0.0342</td>\n",
              "      <td>0.17400</td>\n",
              "      <td>0.000002</td>\n",
              "      <td>0.3530</td>\n",
              "      <td>0.399</td>\n",
              "      <td>79.442</td>\n",
              "      <td>247920</td>\n",
              "      <td>4</td>\n",
              "      <td>1</td>\n",
              "      <td>1</td>\n",
              "      <td>1</td>\n",
              "      <td>1</td>\n",
              "      <td>1</td>\n",
              "      <td>F</td>\n",
              "    </tr>\n",
              "    <tr>\n",
              "      <th>1</th>\n",
              "      <td>0.695</td>\n",
              "      <td>0.847</td>\n",
              "      <td>8</td>\n",
              "      <td>-5.539</td>\n",
              "      <td>1</td>\n",
              "      <td>0.0485</td>\n",
              "      <td>0.44700</td>\n",
              "      <td>0.071000</td>\n",
              "      <td>0.2160</td>\n",
              "      <td>0.825</td>\n",
              "      <td>116.092</td>\n",
              "      <td>179987</td>\n",
              "      <td>4</td>\n",
              "      <td>2</td>\n",
              "      <td>2</td>\n",
              "      <td>2</td>\n",
              "      <td>1</td>\n",
              "      <td>1</td>\n",
              "      <td>F</td>\n",
              "    </tr>\n",
              "    <tr>\n",
              "      <th>2</th>\n",
              "      <td>0.619</td>\n",
              "      <td>0.719</td>\n",
              "      <td>0</td>\n",
              "      <td>-4.111</td>\n",
              "      <td>1</td>\n",
              "      <td>0.1570</td>\n",
              "      <td>0.02270</td>\n",
              "      <td>0.000000</td>\n",
              "      <td>0.0839</td>\n",
              "      <td>0.351</td>\n",
              "      <td>86.036</td>\n",
              "      <td>194576</td>\n",
              "      <td>4</td>\n",
              "      <td>3</td>\n",
              "      <td>3</td>\n",
              "      <td>2</td>\n",
              "      <td>2</td>\n",
              "      <td>1</td>\n",
              "      <td>F</td>\n",
              "    </tr>\n",
              "    <tr>\n",
              "      <th>3</th>\n",
              "      <td>0.226</td>\n",
              "      <td>0.594</td>\n",
              "      <td>7</td>\n",
              "      <td>-5.046</td>\n",
              "      <td>1</td>\n",
              "      <td>0.0425</td>\n",
              "      <td>0.03590</td>\n",
              "      <td>0.005030</td>\n",
              "      <td>0.1620</td>\n",
              "      <td>0.175</td>\n",
              "      <td>87.500</td>\n",
              "      <td>293600</td>\n",
              "      <td>4</td>\n",
              "      <td>1</td>\n",
              "      <td>1</td>\n",
              "      <td>2</td>\n",
              "      <td>1</td>\n",
              "      <td>1</td>\n",
              "      <td>F</td>\n",
              "    </tr>\n",
              "    <tr>\n",
              "      <th>4</th>\n",
              "      <td>0.636</td>\n",
              "      <td>0.763</td>\n",
              "      <td>2</td>\n",
              "      <td>-8.099</td>\n",
              "      <td>1</td>\n",
              "      <td>0.0441</td>\n",
              "      <td>0.13500</td>\n",
              "      <td>0.107000</td>\n",
              "      <td>0.0595</td>\n",
              "      <td>0.320</td>\n",
              "      <td>132.666</td>\n",
              "      <td>179040</td>\n",
              "      <td>4</td>\n",
              "      <td>2</td>\n",
              "      <td>1</td>\n",
              "      <td>1</td>\n",
              "      <td>1</td>\n",
              "      <td>1</td>\n",
              "      <td>F</td>\n",
              "    </tr>\n",
              "    <tr>\n",
              "      <th>...</th>\n",
              "      <td>...</td>\n",
              "      <td>...</td>\n",
              "      <td>...</td>\n",
              "      <td>...</td>\n",
              "      <td>...</td>\n",
              "      <td>...</td>\n",
              "      <td>...</td>\n",
              "      <td>...</td>\n",
              "      <td>...</td>\n",
              "      <td>...</td>\n",
              "      <td>...</td>\n",
              "      <td>...</td>\n",
              "      <td>...</td>\n",
              "      <td>...</td>\n",
              "      <td>...</td>\n",
              "      <td>...</td>\n",
              "      <td>...</td>\n",
              "      <td>...</td>\n",
              "      <td>...</td>\n",
              "    </tr>\n",
              "    <tr>\n",
              "      <th>996</th>\n",
              "      <td>0.787</td>\n",
              "      <td>0.705</td>\n",
              "      <td>0</td>\n",
              "      <td>-7.582</td>\n",
              "      <td>1</td>\n",
              "      <td>0.0695</td>\n",
              "      <td>0.13700</td>\n",
              "      <td>0.000001</td>\n",
              "      <td>0.1080</td>\n",
              "      <td>0.499</td>\n",
              "      <td>81.998</td>\n",
              "      <td>188654</td>\n",
              "      <td>4</td>\n",
              "      <td>2</td>\n",
              "      <td>1</td>\n",
              "      <td>43</td>\n",
              "      <td>1</td>\n",
              "      <td>2</td>\n",
              "      <td>RF</td>\n",
              "    </tr>\n",
              "    <tr>\n",
              "      <th>997</th>\n",
              "      <td>0.702</td>\n",
              "      <td>0.825</td>\n",
              "      <td>6</td>\n",
              "      <td>-3.787</td>\n",
              "      <td>0</td>\n",
              "      <td>0.0601</td>\n",
              "      <td>0.00883</td>\n",
              "      <td>0.000000</td>\n",
              "      <td>0.0674</td>\n",
              "      <td>0.915</td>\n",
              "      <td>102.977</td>\n",
              "      <td>203064</td>\n",
              "      <td>4</td>\n",
              "      <td>3</td>\n",
              "      <td>3</td>\n",
              "      <td>43</td>\n",
              "      <td>2</td>\n",
              "      <td>1</td>\n",
              "      <td>RF</td>\n",
              "    </tr>\n",
              "    <tr>\n",
              "      <th>998</th>\n",
              "      <td>0.547</td>\n",
              "      <td>0.789</td>\n",
              "      <td>8</td>\n",
              "      <td>-5.619</td>\n",
              "      <td>1</td>\n",
              "      <td>0.0420</td>\n",
              "      <td>0.00871</td>\n",
              "      <td>0.000000</td>\n",
              "      <td>0.1000</td>\n",
              "      <td>0.345</td>\n",
              "      <td>129.916</td>\n",
              "      <td>193911</td>\n",
              "      <td>4</td>\n",
              "      <td>3</td>\n",
              "      <td>3</td>\n",
              "      <td>43</td>\n",
              "      <td>2</td>\n",
              "      <td>1</td>\n",
              "      <td>R</td>\n",
              "    </tr>\n",
              "    <tr>\n",
              "      <th>999</th>\n",
              "      <td>0.499</td>\n",
              "      <td>0.792</td>\n",
              "      <td>4</td>\n",
              "      <td>-4.380</td>\n",
              "      <td>1</td>\n",
              "      <td>0.0710</td>\n",
              "      <td>0.01310</td>\n",
              "      <td>0.000505</td>\n",
              "      <td>0.1100</td>\n",
              "      <td>0.341</td>\n",
              "      <td>159.946</td>\n",
              "      <td>242750</td>\n",
              "      <td>4</td>\n",
              "      <td>3</td>\n",
              "      <td>3</td>\n",
              "      <td>43</td>\n",
              "      <td>2</td>\n",
              "      <td>1</td>\n",
              "      <td>R</td>\n",
              "    </tr>\n",
              "    <tr>\n",
              "      <th>1000</th>\n",
              "      <td>0.490</td>\n",
              "      <td>0.914</td>\n",
              "      <td>10</td>\n",
              "      <td>-3.202</td>\n",
              "      <td>1</td>\n",
              "      <td>0.1670</td>\n",
              "      <td>0.02270</td>\n",
              "      <td>0.000000</td>\n",
              "      <td>0.7930</td>\n",
              "      <td>0.241</td>\n",
              "      <td>100.100</td>\n",
              "      <td>192720</td>\n",
              "      <td>4</td>\n",
              "      <td>2</td>\n",
              "      <td>3</td>\n",
              "      <td>43</td>\n",
              "      <td>2</td>\n",
              "      <td>1</td>\n",
              "      <td>R</td>\n",
              "    </tr>\n",
              "  </tbody>\n",
              "</table>\n",
              "<p>1001 rows × 19 columns</p>\n",
              "</div>"
            ],
            "text/plain": [
              "      danceability  energy  key  ...  number_integrants  Song Language  Do we like?\n",
              "0            0.488   0.493    7  ...                  1              1            F\n",
              "1            0.695   0.847    8  ...                  1              1            F\n",
              "2            0.619   0.719    0  ...                  2              1            F\n",
              "3            0.226   0.594    7  ...                  1              1            F\n",
              "4            0.636   0.763    2  ...                  1              1            F\n",
              "...            ...     ...  ...  ...                ...            ...          ...\n",
              "996          0.787   0.705    0  ...                  1              2           RF\n",
              "997          0.702   0.825    6  ...                  2              1           RF\n",
              "998          0.547   0.789    8  ...                  2              1            R\n",
              "999          0.499   0.792    4  ...                  2              1            R\n",
              "1000         0.490   0.914   10  ...                  2              1            R\n",
              "\n",
              "[1001 rows x 19 columns]"
            ]
          },
          "metadata": {
            "tags": []
          },
          "execution_count": 31
        }
      ]
    },
    {
      "cell_type": "code",
      "metadata": {
        "id": "xs7OdIoxYhJg"
      },
      "source": [
        "like = df['Do we like?'].unique()\r\n",
        "dic_likes = {key: i+1 for i,key in enumerate(like)}"
      ],
      "execution_count": 33,
      "outputs": []
    },
    {
      "cell_type": "code",
      "metadata": {
        "colab": {
          "base_uri": "https://localhost:8080/"
        },
        "id": "ztwAQiI9YhSR",
        "outputId": "7db2fb7d-a6e1-4031-dedd-c346fbe94d1b"
      },
      "source": [
        "dic_likes"
      ],
      "execution_count": 34,
      "outputs": [
        {
          "output_type": "execute_result",
          "data": {
            "text/plain": [
              "{'F': 1, 'FR': 2, 'R': 4, 'RF': 3}"
            ]
          },
          "metadata": {
            "tags": []
          },
          "execution_count": 34
        }
      ]
    },
    {
      "cell_type": "code",
      "metadata": {
        "id": "5GZpxbXEUooO"
      },
      "source": [
        "dic_likes[\"F\"] = 1\r\n",
        "dic_likes[\"R\"] = 2\r\n",
        "dic_likes[\"FR\"] = 3\r\n",
        "dic_likes[\"RF\"] = 3"
      ],
      "execution_count": 37,
      "outputs": []
    },
    {
      "cell_type": "code",
      "metadata": {
        "colab": {
          "base_uri": "https://localhost:8080/"
        },
        "id": "Kst2oDKLZFWv",
        "outputId": "961528f9-baf1-4988-f5cb-49c90574d016"
      },
      "source": [
        "dic_likes"
      ],
      "execution_count": 38,
      "outputs": [
        {
          "output_type": "execute_result",
          "data": {
            "text/plain": [
              "{'F': 1, 'FR': 3, 'R': 2, 'RF': 3}"
            ]
          },
          "metadata": {
            "tags": []
          },
          "execution_count": 38
        }
      ]
    },
    {
      "cell_type": "code",
      "metadata": {
        "id": "MVds5wPbZAPh"
      },
      "source": [
        "df['Do we like?'].replace(dic_likes,inplace=True)"
      ],
      "execution_count": 39,
      "outputs": []
    },
    {
      "cell_type": "code",
      "metadata": {
        "colab": {
          "base_uri": "https://localhost:8080/",
          "height": 473
        },
        "id": "FtZwtUe5Zdq8",
        "outputId": "e92f0809-5275-4c54-c0e9-7a6adc716907"
      },
      "source": [
        "df"
      ],
      "execution_count": 40,
      "outputs": [
        {
          "output_type": "execute_result",
          "data": {
            "text/html": [
              "<div>\n",
              "<style scoped>\n",
              "    .dataframe tbody tr th:only-of-type {\n",
              "        vertical-align: middle;\n",
              "    }\n",
              "\n",
              "    .dataframe tbody tr th {\n",
              "        vertical-align: top;\n",
              "    }\n",
              "\n",
              "    .dataframe thead th {\n",
              "        text-align: right;\n",
              "    }\n",
              "</style>\n",
              "<table border=\"1\" class=\"dataframe\">\n",
              "  <thead>\n",
              "    <tr style=\"text-align: right;\">\n",
              "      <th></th>\n",
              "      <th>danceability</th>\n",
              "      <th>energy</th>\n",
              "      <th>key</th>\n",
              "      <th>loudness</th>\n",
              "      <th>mode</th>\n",
              "      <th>speechiness</th>\n",
              "      <th>acousticness</th>\n",
              "      <th>instrumentalness</th>\n",
              "      <th>liveness</th>\n",
              "      <th>valence</th>\n",
              "      <th>tempo</th>\n",
              "      <th>duration_ms</th>\n",
              "      <th>time_signature</th>\n",
              "      <th>gender(of the atrist(s))</th>\n",
              "      <th>type(solo, colab, grpup/band)</th>\n",
              "      <th>country</th>\n",
              "      <th>number_integrants</th>\n",
              "      <th>Song Language</th>\n",
              "      <th>Do we like?</th>\n",
              "    </tr>\n",
              "  </thead>\n",
              "  <tbody>\n",
              "    <tr>\n",
              "      <th>0</th>\n",
              "      <td>0.488</td>\n",
              "      <td>0.493</td>\n",
              "      <td>7</td>\n",
              "      <td>-7.870</td>\n",
              "      <td>1</td>\n",
              "      <td>0.0342</td>\n",
              "      <td>0.17400</td>\n",
              "      <td>0.000002</td>\n",
              "      <td>0.3530</td>\n",
              "      <td>0.399</td>\n",
              "      <td>79.442</td>\n",
              "      <td>247920</td>\n",
              "      <td>4</td>\n",
              "      <td>1</td>\n",
              "      <td>1</td>\n",
              "      <td>1</td>\n",
              "      <td>1</td>\n",
              "      <td>1</td>\n",
              "      <td>1</td>\n",
              "    </tr>\n",
              "    <tr>\n",
              "      <th>1</th>\n",
              "      <td>0.695</td>\n",
              "      <td>0.847</td>\n",
              "      <td>8</td>\n",
              "      <td>-5.539</td>\n",
              "      <td>1</td>\n",
              "      <td>0.0485</td>\n",
              "      <td>0.44700</td>\n",
              "      <td>0.071000</td>\n",
              "      <td>0.2160</td>\n",
              "      <td>0.825</td>\n",
              "      <td>116.092</td>\n",
              "      <td>179987</td>\n",
              "      <td>4</td>\n",
              "      <td>2</td>\n",
              "      <td>2</td>\n",
              "      <td>2</td>\n",
              "      <td>1</td>\n",
              "      <td>1</td>\n",
              "      <td>1</td>\n",
              "    </tr>\n",
              "    <tr>\n",
              "      <th>2</th>\n",
              "      <td>0.619</td>\n",
              "      <td>0.719</td>\n",
              "      <td>0</td>\n",
              "      <td>-4.111</td>\n",
              "      <td>1</td>\n",
              "      <td>0.1570</td>\n",
              "      <td>0.02270</td>\n",
              "      <td>0.000000</td>\n",
              "      <td>0.0839</td>\n",
              "      <td>0.351</td>\n",
              "      <td>86.036</td>\n",
              "      <td>194576</td>\n",
              "      <td>4</td>\n",
              "      <td>3</td>\n",
              "      <td>3</td>\n",
              "      <td>2</td>\n",
              "      <td>2</td>\n",
              "      <td>1</td>\n",
              "      <td>1</td>\n",
              "    </tr>\n",
              "    <tr>\n",
              "      <th>3</th>\n",
              "      <td>0.226</td>\n",
              "      <td>0.594</td>\n",
              "      <td>7</td>\n",
              "      <td>-5.046</td>\n",
              "      <td>1</td>\n",
              "      <td>0.0425</td>\n",
              "      <td>0.03590</td>\n",
              "      <td>0.005030</td>\n",
              "      <td>0.1620</td>\n",
              "      <td>0.175</td>\n",
              "      <td>87.500</td>\n",
              "      <td>293600</td>\n",
              "      <td>4</td>\n",
              "      <td>1</td>\n",
              "      <td>1</td>\n",
              "      <td>2</td>\n",
              "      <td>1</td>\n",
              "      <td>1</td>\n",
              "      <td>1</td>\n",
              "    </tr>\n",
              "    <tr>\n",
              "      <th>4</th>\n",
              "      <td>0.636</td>\n",
              "      <td>0.763</td>\n",
              "      <td>2</td>\n",
              "      <td>-8.099</td>\n",
              "      <td>1</td>\n",
              "      <td>0.0441</td>\n",
              "      <td>0.13500</td>\n",
              "      <td>0.107000</td>\n",
              "      <td>0.0595</td>\n",
              "      <td>0.320</td>\n",
              "      <td>132.666</td>\n",
              "      <td>179040</td>\n",
              "      <td>4</td>\n",
              "      <td>2</td>\n",
              "      <td>1</td>\n",
              "      <td>1</td>\n",
              "      <td>1</td>\n",
              "      <td>1</td>\n",
              "      <td>1</td>\n",
              "    </tr>\n",
              "    <tr>\n",
              "      <th>...</th>\n",
              "      <td>...</td>\n",
              "      <td>...</td>\n",
              "      <td>...</td>\n",
              "      <td>...</td>\n",
              "      <td>...</td>\n",
              "      <td>...</td>\n",
              "      <td>...</td>\n",
              "      <td>...</td>\n",
              "      <td>...</td>\n",
              "      <td>...</td>\n",
              "      <td>...</td>\n",
              "      <td>...</td>\n",
              "      <td>...</td>\n",
              "      <td>...</td>\n",
              "      <td>...</td>\n",
              "      <td>...</td>\n",
              "      <td>...</td>\n",
              "      <td>...</td>\n",
              "      <td>...</td>\n",
              "    </tr>\n",
              "    <tr>\n",
              "      <th>996</th>\n",
              "      <td>0.787</td>\n",
              "      <td>0.705</td>\n",
              "      <td>0</td>\n",
              "      <td>-7.582</td>\n",
              "      <td>1</td>\n",
              "      <td>0.0695</td>\n",
              "      <td>0.13700</td>\n",
              "      <td>0.000001</td>\n",
              "      <td>0.1080</td>\n",
              "      <td>0.499</td>\n",
              "      <td>81.998</td>\n",
              "      <td>188654</td>\n",
              "      <td>4</td>\n",
              "      <td>2</td>\n",
              "      <td>1</td>\n",
              "      <td>43</td>\n",
              "      <td>1</td>\n",
              "      <td>2</td>\n",
              "      <td>3</td>\n",
              "    </tr>\n",
              "    <tr>\n",
              "      <th>997</th>\n",
              "      <td>0.702</td>\n",
              "      <td>0.825</td>\n",
              "      <td>6</td>\n",
              "      <td>-3.787</td>\n",
              "      <td>0</td>\n",
              "      <td>0.0601</td>\n",
              "      <td>0.00883</td>\n",
              "      <td>0.000000</td>\n",
              "      <td>0.0674</td>\n",
              "      <td>0.915</td>\n",
              "      <td>102.977</td>\n",
              "      <td>203064</td>\n",
              "      <td>4</td>\n",
              "      <td>3</td>\n",
              "      <td>3</td>\n",
              "      <td>43</td>\n",
              "      <td>2</td>\n",
              "      <td>1</td>\n",
              "      <td>3</td>\n",
              "    </tr>\n",
              "    <tr>\n",
              "      <th>998</th>\n",
              "      <td>0.547</td>\n",
              "      <td>0.789</td>\n",
              "      <td>8</td>\n",
              "      <td>-5.619</td>\n",
              "      <td>1</td>\n",
              "      <td>0.0420</td>\n",
              "      <td>0.00871</td>\n",
              "      <td>0.000000</td>\n",
              "      <td>0.1000</td>\n",
              "      <td>0.345</td>\n",
              "      <td>129.916</td>\n",
              "      <td>193911</td>\n",
              "      <td>4</td>\n",
              "      <td>3</td>\n",
              "      <td>3</td>\n",
              "      <td>43</td>\n",
              "      <td>2</td>\n",
              "      <td>1</td>\n",
              "      <td>2</td>\n",
              "    </tr>\n",
              "    <tr>\n",
              "      <th>999</th>\n",
              "      <td>0.499</td>\n",
              "      <td>0.792</td>\n",
              "      <td>4</td>\n",
              "      <td>-4.380</td>\n",
              "      <td>1</td>\n",
              "      <td>0.0710</td>\n",
              "      <td>0.01310</td>\n",
              "      <td>0.000505</td>\n",
              "      <td>0.1100</td>\n",
              "      <td>0.341</td>\n",
              "      <td>159.946</td>\n",
              "      <td>242750</td>\n",
              "      <td>4</td>\n",
              "      <td>3</td>\n",
              "      <td>3</td>\n",
              "      <td>43</td>\n",
              "      <td>2</td>\n",
              "      <td>1</td>\n",
              "      <td>2</td>\n",
              "    </tr>\n",
              "    <tr>\n",
              "      <th>1000</th>\n",
              "      <td>0.490</td>\n",
              "      <td>0.914</td>\n",
              "      <td>10</td>\n",
              "      <td>-3.202</td>\n",
              "      <td>1</td>\n",
              "      <td>0.1670</td>\n",
              "      <td>0.02270</td>\n",
              "      <td>0.000000</td>\n",
              "      <td>0.7930</td>\n",
              "      <td>0.241</td>\n",
              "      <td>100.100</td>\n",
              "      <td>192720</td>\n",
              "      <td>4</td>\n",
              "      <td>2</td>\n",
              "      <td>3</td>\n",
              "      <td>43</td>\n",
              "      <td>2</td>\n",
              "      <td>1</td>\n",
              "      <td>2</td>\n",
              "    </tr>\n",
              "  </tbody>\n",
              "</table>\n",
              "<p>1001 rows × 19 columns</p>\n",
              "</div>"
            ],
            "text/plain": [
              "      danceability  energy  key  ...  number_integrants  Song Language  Do we like?\n",
              "0            0.488   0.493    7  ...                  1              1            1\n",
              "1            0.695   0.847    8  ...                  1              1            1\n",
              "2            0.619   0.719    0  ...                  2              1            1\n",
              "3            0.226   0.594    7  ...                  1              1            1\n",
              "4            0.636   0.763    2  ...                  1              1            1\n",
              "...            ...     ...  ...  ...                ...            ...          ...\n",
              "996          0.787   0.705    0  ...                  1              2            3\n",
              "997          0.702   0.825    6  ...                  2              1            3\n",
              "998          0.547   0.789    8  ...                  2              1            2\n",
              "999          0.499   0.792    4  ...                  2              1            2\n",
              "1000         0.490   0.914   10  ...                  2              1            2\n",
              "\n",
              "[1001 rows x 19 columns]"
            ]
          },
          "metadata": {
            "tags": []
          },
          "execution_count": 40
        }
      ]
    },
    {
      "cell_type": "markdown",
      "metadata": {
        "id": "SUUBpN0thiDE"
      },
      "source": [
        "## Clustering kmeans"
      ]
    },
    {
      "cell_type": "code",
      "metadata": {
        "id": "RUAOMo38dZS9"
      },
      "source": [
        "data2numpy=pd.DataFrame(df).to_numpy()"
      ],
      "execution_count": 41,
      "outputs": []
    },
    {
      "cell_type": "code",
      "metadata": {
        "colab": {
          "base_uri": "https://localhost:8080/"
        },
        "id": "6_mtfmeMeDqX",
        "outputId": "27ce8bf5-f852-4fc3-c8d3-77fdddf9ca6e"
      },
      "source": [
        "data2numpy.shape"
      ],
      "execution_count": 44,
      "outputs": [
        {
          "output_type": "execute_result",
          "data": {
            "text/plain": [
              "(1001, 19)"
            ]
          },
          "metadata": {
            "tags": []
          },
          "execution_count": 44
        }
      ]
    },
    {
      "cell_type": "code",
      "metadata": {
        "id": "7LSp_wlDewCF"
      },
      "source": [
        "RSS=[]"
      ],
      "execution_count": 97,
      "outputs": []
    },
    {
      "cell_type": "code",
      "metadata": {
        "id": "1kEnK6_Weynn"
      },
      "source": [
        "resultado = skc.KMeans(n_clusters=9,init='random',max_iter=200).fit(data2numpy)\r\n",
        "r=resultado.inertia_\r\n",
        "RSS.append(r)"
      ],
      "execution_count": 108,
      "outputs": []
    },
    {
      "cell_type": "code",
      "metadata": {
        "colab": {
          "base_uri": "https://localhost:8080/"
        },
        "id": "5UM3Qfv9eyv5",
        "outputId": "d3a845c4-9190-4c88-8031-77b943a34146"
      },
      "source": [
        "RSS"
      ],
      "execution_count": 98,
      "outputs": [
        {
          "output_type": "execute_result",
          "data": {
            "text/plain": [
              "[]"
            ]
          },
          "metadata": {
            "tags": []
          },
          "execution_count": 98
        }
      ]
    },
    {
      "cell_type": "code",
      "metadata": {
        "colab": {
          "base_uri": "https://localhost:8080/"
        },
        "id": "i9SnqDV7gFuS",
        "outputId": "7415d39e-7e4b-4db8-b8f9-d479ab51d74e"
      },
      "source": [
        "t = np.arange(1, 10, 1)\r\n",
        "t"
      ],
      "execution_count": 99,
      "outputs": [
        {
          "output_type": "execute_result",
          "data": {
            "text/plain": [
              "array([1, 2, 3, 4, 5, 6, 7, 8, 9])"
            ]
          },
          "metadata": {
            "tags": []
          },
          "execution_count": 99
        }
      ]
    },
    {
      "cell_type": "code",
      "metadata": {
        "colab": {
          "base_uri": "https://localhost:8080/",
          "height": 372
        },
        "id": "7JnNK6OFey4m",
        "outputId": "7ffe8b40-f3fc-4525-a644-c5c38bc292c7"
      },
      "source": [
        "t = np.arange(1, 10, 1)\r\n",
        "\r\n",
        "plt.plot(t, RSS , 'g')\r\n",
        "plt.xlabel('Number of clusters')\r\n",
        "plt.ylabel('RSS')\r\n",
        "plt.grid()\r\n",
        "plt.show()"
      ],
      "execution_count": 109,
      "outputs": [
        {
          "output_type": "display_data",
          "data": {
            "image/png": "[encoded data removed]",
            "text/plain": [
              "<Figure size 576x396 with 1 Axes>"
            ]
          },
          "metadata": {
            "tags": []
          }
        }
      ]
    },
    {
      "cell_type": "code",
      "metadata": {
        "colab": {
          "base_uri": "https://localhost:8080/",
          "height": 481
        },
        "id": "nM633MhZfw39",
        "outputId": "5773292d-c623-41d5-d58b-7f41af2c00db"
      },
      "source": [
        "X, y = data2numpy,1\r\n",
        "kelbow_visualizer(KMeans(random_state=4), X, k=(1,11))"
      ],
      "execution_count": 96,
      "outputs": [
        {
          "output_type": "display_data",
          "data": {
            "image/png": "[encoded data removed]",
            "text/plain": [
              "<Figure size 576x396 with 2 Axes>"
            ]
          },
          "metadata": {
            "tags": []
          }
        },
        {
          "output_type": "stream",
          "text": [
            "/usr/local/lib/python3.6/dist-packages/sklearn/base.py:197: FutureWarning: From version 0.24, get_params will raise an AttributeError if a parameter cannot be retrieved as an instance attribute. Previously it would return None.\n",
            "  FutureWarning)\n"
          ],
          "name": "stderr"
        },
        {
          "output_type": "execute_result",
          "data": {
            "text/plain": [
              "KElbowVisualizer(ax=<matplotlib.axes._subplots.AxesSubplot object at 0x7f8db910fd30>,\n",
              "                 k=None, locate_elbow=True, metric='distortion', model=None,\n",
              "                 timings=True)"
            ]
          },
          "metadata": {
            "tags": []
          },
          "execution_count": 96
        }
      ]
    },
    {
      "cell_type": "code",
      "metadata": {
        "colab": {
          "base_uri": "https://localhost:8080/",
          "height": 393
        },
        "id": "8Cre1s2FhBah",
        "outputId": "cca5a868-4296-4116-fa9a-cc1b31266d95"
      },
      "source": [
        "X, y = data2numpy,1\r\n",
        "\r\n",
        "model = KMeans(3, random_state=42)\r\n",
        "visualizer = SilhouetteVisualizer(model, colors='yellowbrick')\r\n",
        "\r\n",
        "visualizer.fit(X)        \r\n",
        "visualizer.show()        "
      ],
      "execution_count": 110,
      "outputs": [
        {
          "output_type": "display_data",
          "data": {
            "image/png": "[encoded data removed]",
            "text/plain": [
              "<Figure size 576x396 with 1 Axes>"
            ]
          },
          "metadata": {
            "tags": []
          }
        },
        {
          "output_type": "execute_result",
          "data": {
            "text/plain": [
              "<matplotlib.axes._subplots.AxesSubplot at 0x7f8dba64b630>"
            ]
          },
          "metadata": {
            "tags": []
          },
          "execution_count": 110
        }
      ]
    },
    {
      "cell_type": "code",
      "metadata": {
        "colab": {
          "base_uri": "https://localhost:8080/",
          "height": 393
        },
        "id": "-WXJcQzZhUvm",
        "outputId": "70bb6342-905e-4008-f12d-028a6d0888ae"
      },
      "source": [
        "X, y = data2numpy,1\r\n",
        "\r\n",
        "model = KMeans(4, random_state=42)\r\n",
        "visualizer = SilhouetteVisualizer(model, colors='yellowbrick')\r\n",
        "\r\n",
        "visualizer.fit(X)        \r\n",
        "visualizer.show()"
      ],
      "execution_count": 111,
      "outputs": [
        {
          "output_type": "display_data",
          "data": {
            "image/png": "[encoded data removed]",
            "text/plain": [
              "<Figure size 576x396 with 1 Axes>"
            ]
          },
          "metadata": {
            "tags": []
          }
        },
        {
          "output_type": "execute_result",
          "data": {
            "text/plain": [
              "<matplotlib.axes._subplots.AxesSubplot at 0x7f8dba688f28>"
            ]
          },
          "metadata": {
            "tags": []
          },
          "execution_count": 111
        }
      ]
    },
    {
      "cell_type": "code",
      "metadata": {
        "colab": {
          "base_uri": "https://localhost:8080/",
          "height": 393
        },
        "id": "sj79ZBuphac6",
        "outputId": "2d83ca7f-e230-4fb2-fe3b-3d0415e46fd6"
      },
      "source": [
        "X, y = data2numpy,1\r\n",
        "\r\n",
        "model = KMeans(5, random_state=42)\r\n",
        "visualizer = SilhouetteVisualizer(model, colors='yellowbrick')\r\n",
        "\r\n",
        "visualizer.fit(X)        \r\n",
        "visualizer.show() "
      ],
      "execution_count": 112,
      "outputs": [
        {
          "output_type": "display_data",
          "data": {
            "image/png": "[encoded data removed]",
            "text/plain": [
              "<Figure size 576x396 with 1 Axes>"
            ]
          },
          "metadata": {
            "tags": []
          }
        },
        {
          "output_type": "execute_result",
          "data": {
            "text/plain": [
              "<matplotlib.axes._subplots.AxesSubplot at 0x7f8dbafa89e8>"
            ]
          },
          "metadata": {
            "tags": []
          },
          "execution_count": 112
        }
      ]
    },
    {
      "cell_type": "code",
      "metadata": {
        "id": "zU7CLdGthc9R"
      },
      "source": [
        "results = skc.KMeans(n_clusters=4,init='random',max_iter=200).fit(data2numpy)\r\n",
        "r=results.cluster_centers_"
      ],
      "execution_count": 124,
      "outputs": []
    },
    {
      "cell_type": "code",
      "metadata": {
        "colab": {
          "base_uri": "https://localhost:8080/"
        },
        "id": "9F7Fm3g8iEAA",
        "outputId": "21a105cd-439a-4fd1-a47d-e06e224e01c7"
      },
      "source": [
        "r.shape"
      ],
      "execution_count": 125,
      "outputs": [
        {
          "output_type": "execute_result",
          "data": {
            "text/plain": [
              "(4, 19)"
            ]
          },
          "metadata": {
            "tags": []
          },
          "execution_count": 125
        }
      ]
    },
    {
      "cell_type": "code",
      "metadata": {
        "colab": {
          "base_uri": "https://localhost:8080/"
        },
        "id": "CJPfXbobiNm0",
        "outputId": "abb5592d-8f02-4da3-acd5-d586baf5a70a"
      },
      "source": [
        "r[0]"
      ],
      "execution_count": 126,
      "outputs": [
        {
          "output_type": "execute_result",
          "data": {
            "text/plain": [
              "array([ 6.29681034e-01,  6.74137931e-01,  4.72844828e+00, -6.47396552e+00,\n",
              "        6.16379310e-01,  8.86767241e-02,  1.97501612e-01,  7.43511949e-02,\n",
              "        1.80907759e-01,  4.71306034e-01,  1.25034159e+02,  2.50937858e+05,\n",
              "        3.95258621e+00,  2.04310345e+00,  2.15948276e+00,  9.10775862e+00,\n",
              "        1.82758621e+00,  1.56034483e+00,  1.88793103e+00])"
            ]
          },
          "metadata": {
            "tags": []
          },
          "execution_count": 126
        }
      ]
    },
    {
      "cell_type": "code",
      "metadata": {
        "colab": {
          "base_uri": "https://localhost:8080/"
        },
        "id": "otVyLTFii-dD",
        "outputId": "ab038dde-2265-4d9a-d7fb-20b929825cb0"
      },
      "source": [
        "r[1]"
      ],
      "execution_count": 127,
      "outputs": [
        {
          "output_type": "execute_result",
          "data": {
            "text/plain": [
              "array([ 6.30653061e-01,  6.54816327e-01,  5.79591837e+00, -7.03669388e+00,\n",
              "        4.89795918e-01,  8.30142857e-02,  1.77939530e-01,  1.65278808e-01,\n",
              "        1.69261224e-01,  4.48630612e-01,  1.21324612e+02,  3.42220939e+05,\n",
              "        4.02040816e+00,  2.02040816e+00,  1.91836735e+00,  7.22448980e+00,\n",
              "        1.97959184e+00,  1.59183673e+00,  1.73469388e+00])"
            ]
          },
          "metadata": {
            "tags": []
          },
          "execution_count": 127
        }
      ]
    },
    {
      "cell_type": "code",
      "metadata": {
        "colab": {
          "base_uri": "https://localhost:8080/"
        },
        "id": "4erLQF30i_lD",
        "outputId": "2347a01e-334e-4334-b98d-86cddd3932e7"
      },
      "source": [
        "r[2]"
      ],
      "execution_count": 130,
      "outputs": [
        {
          "output_type": "execute_result",
          "data": {
            "text/plain": [
              "array([ 7.02976744e-01,  6.77883721e-01,  5.16666667e+00, -6.09023256e+00,\n",
              "        5.89147287e-01,  1.17682946e-01,  2.03023426e-01,  4.87464603e-02,\n",
              "        1.82429457e-01,  5.12547674e-01,  1.23676384e+02,  1.60518659e+05,\n",
              "        3.99224806e+00,  1.85658915e+00,  1.86821705e+00,  8.56201550e+00,\n",
              "        1.50775194e+00,  1.63178295e+00,  1.94186047e+00])"
            ]
          },
          "metadata": {
            "tags": []
          },
          "execution_count": 130
        }
      ]
    },
    {
      "cell_type": "code",
      "metadata": {
        "colab": {
          "base_uri": "https://localhost:8080/"
        },
        "id": "zmHNauy4lxze",
        "outputId": "c9f146b7-f2d8-4bba-ceb9-a8f48fee2152"
      },
      "source": [
        "r[3]"
      ],
      "execution_count": 132,
      "outputs": [
        {
          "output_type": "execute_result",
          "data": {
            "text/plain": [
              "array([ 6.83186147e-01,  6.86564935e-01,  5.55194805e+00, -5.91340043e+00,\n",
              "        5.36796537e-01,  9.16266234e-02,  1.81432821e-01,  4.35607913e-02,\n",
              "        1.83893506e-01,  5.11415801e-01,  1.22600898e+02,  2.02428483e+05,\n",
              "        3.97619048e+00,  1.95887446e+00,  2.06060606e+00,  9.70995671e+00,\n",
              "        1.60822511e+00,  1.56060606e+00,  2.00865801e+00])"
            ]
          },
          "metadata": {
            "tags": []
          },
          "execution_count": 132
        }
      ]
    }
  ]
}